{
 "metadata": {
  "language_info": {
   "codemirror_mode": {
    "name": "ipython",
    "version": 3
   },
   "file_extension": ".py",
   "mimetype": "text/x-python",
   "name": "python",
   "nbconvert_exporter": "python",
   "pygments_lexer": "ipython3",
   "version": "3.8.10"
  },
  "orig_nbformat": 2,
  "kernelspec": {
   "name": "python3810jvsc74a57bd0893f19b8921c0a0e7ff69edaa1d83a227a4b2f3722fb2d467d0116d15f0700c3",
   "display_name": "Python 3.8.10 64-bit ('tf': conda)"
  }
 },
 "nbformat": 4,
 "nbformat_minor": 2,
 "cells": [
  {
   "cell_type": "code",
   "execution_count": 1,
   "metadata": {},
   "outputs": [
    {
     "output_type": "stream",
     "name": "stdout",
     "text": [
      "2.3.0\n"
     ]
    }
   ],
   "source": [
    "import tensorflow as tf\n",
    "print(tf.__version__)"
   ]
  },
  {
   "cell_type": "code",
   "execution_count": 2,
   "metadata": {},
   "outputs": [
    {
     "output_type": "stream",
     "name": "stdout",
     "text": [
      "WARNING:tensorflow:From C:\\Users\\cesar\\anaconda3\\envs\\tf\\lib\\site-packages\\tensorflow\\python\\compat\\v2_compat.py:96: disable_resource_variables (from tensorflow.python.ops.variable_scope) is deprecated and will be removed in a future version.\n",
      "Instructions for updating:\n",
      "non-resource variables are not supported in the long term\n",
      "Enabled compatitility to tf1.x\n"
     ]
    }
   ],
   "source": [
    "if tf.__version__.startswith(\"2.\"):\n",
    "  import tensorflow.compat.v1 as tf\n",
    "  tf.compat.v1.disable_v2_behavior()\n",
    "  tf.compat.v1.disable_eager_execution()\n",
    "  print(\"Enabled compatitility to tf1.x\")"
   ]
  },
  {
   "cell_type": "code",
   "execution_count": 3,
   "metadata": {},
   "outputs": [],
   "source": [
    "import numpy as np\n",
    "import pandas as pd\n",
    "from matplotlib import pyplot as plt\n",
    "data = np.load('proyecto_training_data.npy')\n",
    "column_names = [\"SalePrice\",\"OverallQual\",\"1stFlrSF\",\"TotRmsAbrGrd\",\"YearBuilt\",\"LotFrontage\"]\n",
    "data_df = pd.DataFrame(data, columns=column_names)"
   ]
  },
  {
   "cell_type": "code",
   "execution_count": 4,
   "metadata": {},
   "outputs": [
    {
     "output_type": "execute_result",
     "data": {
      "text/plain": [
       "      SalePrice  OverallQual  1stFlrSF  TotRmsAbrGrd  YearBuilt  LotFrontage\n",
       "0      208500.0          7.0     856.0           8.0     2003.0         65.0\n",
       "1      181500.0          6.0    1262.0           6.0     1976.0         80.0\n",
       "2      223500.0          7.0     920.0           6.0     2001.0         68.0\n",
       "3      140000.0          7.0     961.0           7.0     1915.0         60.0\n",
       "4      250000.0          8.0    1145.0           9.0     2000.0         84.0\n",
       "...         ...          ...       ...           ...        ...          ...\n",
       "1455   175000.0          6.0     953.0           7.0     1999.0         62.0\n",
       "1456   210000.0          6.0    2073.0           7.0     1978.0         85.0\n",
       "1457   266500.0          7.0    1188.0           9.0     1941.0         66.0\n",
       "1458   142125.0          5.0    1078.0           5.0     1950.0         68.0\n",
       "1459   147500.0          5.0    1256.0           6.0     1965.0         75.0\n",
       "\n",
       "[1460 rows x 6 columns]"
      ],
      "text/html": "<div>\n<style scoped>\n    .dataframe tbody tr th:only-of-type {\n        vertical-align: middle;\n    }\n\n    .dataframe tbody tr th {\n        vertical-align: top;\n    }\n\n    .dataframe thead th {\n        text-align: right;\n    }\n</style>\n<table border=\"1\" class=\"dataframe\">\n  <thead>\n    <tr style=\"text-align: right;\">\n      <th></th>\n      <th>SalePrice</th>\n      <th>OverallQual</th>\n      <th>1stFlrSF</th>\n      <th>TotRmsAbrGrd</th>\n      <th>YearBuilt</th>\n      <th>LotFrontage</th>\n    </tr>\n  </thead>\n  <tbody>\n    <tr>\n      <th>0</th>\n      <td>208500.0</td>\n      <td>7.0</td>\n      <td>856.0</td>\n      <td>8.0</td>\n      <td>2003.0</td>\n      <td>65.0</td>\n    </tr>\n    <tr>\n      <th>1</th>\n      <td>181500.0</td>\n      <td>6.0</td>\n      <td>1262.0</td>\n      <td>6.0</td>\n      <td>1976.0</td>\n      <td>80.0</td>\n    </tr>\n    <tr>\n      <th>2</th>\n      <td>223500.0</td>\n      <td>7.0</td>\n      <td>920.0</td>\n      <td>6.0</td>\n      <td>2001.0</td>\n      <td>68.0</td>\n    </tr>\n    <tr>\n      <th>3</th>\n      <td>140000.0</td>\n      <td>7.0</td>\n      <td>961.0</td>\n      <td>7.0</td>\n      <td>1915.0</td>\n      <td>60.0</td>\n    </tr>\n    <tr>\n      <th>4</th>\n      <td>250000.0</td>\n      <td>8.0</td>\n      <td>1145.0</td>\n      <td>9.0</td>\n      <td>2000.0</td>\n      <td>84.0</td>\n    </tr>\n    <tr>\n      <th>...</th>\n      <td>...</td>\n      <td>...</td>\n      <td>...</td>\n      <td>...</td>\n      <td>...</td>\n      <td>...</td>\n    </tr>\n    <tr>\n      <th>1455</th>\n      <td>175000.0</td>\n      <td>6.0</td>\n      <td>953.0</td>\n      <td>7.0</td>\n      <td>1999.0</td>\n      <td>62.0</td>\n    </tr>\n    <tr>\n      <th>1456</th>\n      <td>210000.0</td>\n      <td>6.0</td>\n      <td>2073.0</td>\n      <td>7.0</td>\n      <td>1978.0</td>\n      <td>85.0</td>\n    </tr>\n    <tr>\n      <th>1457</th>\n      <td>266500.0</td>\n      <td>7.0</td>\n      <td>1188.0</td>\n      <td>9.0</td>\n      <td>1941.0</td>\n      <td>66.0</td>\n    </tr>\n    <tr>\n      <th>1458</th>\n      <td>142125.0</td>\n      <td>5.0</td>\n      <td>1078.0</td>\n      <td>5.0</td>\n      <td>1950.0</td>\n      <td>68.0</td>\n    </tr>\n    <tr>\n      <th>1459</th>\n      <td>147500.0</td>\n      <td>5.0</td>\n      <td>1256.0</td>\n      <td>6.0</td>\n      <td>1965.0</td>\n      <td>75.0</td>\n    </tr>\n  </tbody>\n</table>\n<p>1460 rows × 6 columns</p>\n</div>"
     },
     "metadata": {},
     "execution_count": 4
    }
   ],
   "source": [
    "data_df"
   ]
  },
  {
   "cell_type": "code",
   "execution_count": 5,
   "metadata": {},
   "outputs": [
    {
     "output_type": "execute_result",
     "data": {
      "text/plain": [
       "   OverallQual  1stFlrSF  TotRmsAbrGrd  YearBuilt  LotFrontage\n",
       "0     0.790982  0.605852      0.533723   0.522897          NaN"
      ],
      "text/html": "<div>\n<style scoped>\n    .dataframe tbody tr th:only-of-type {\n        vertical-align: middle;\n    }\n\n    .dataframe tbody tr th {\n        vertical-align: top;\n    }\n\n    .dataframe thead th {\n        text-align: right;\n    }\n</style>\n<table border=\"1\" class=\"dataframe\">\n  <thead>\n    <tr style=\"text-align: right;\">\n      <th></th>\n      <th>OverallQual</th>\n      <th>1stFlrSF</th>\n      <th>TotRmsAbrGrd</th>\n      <th>YearBuilt</th>\n      <th>LotFrontage</th>\n    </tr>\n  </thead>\n  <tbody>\n    <tr>\n      <th>0</th>\n      <td>0.790982</td>\n      <td>0.605852</td>\n      <td>0.533723</td>\n      <td>0.522897</td>\n      <td>NaN</td>\n    </tr>\n  </tbody>\n</table>\n</div>"
     },
     "metadata": {},
     "execution_count": 5
    }
   ],
   "source": [
    "correlacion = np.corrcoef(data,rowvar=False)[0,:]\n",
    "pd.DataFrame(correlacion[1:].reshape(1,5),columns=column_names[1:])"
   ]
  },
  {
   "source": [
    "### Variable con mayor correlacion \"OverallQual\""
   ],
   "cell_type": "markdown",
   "metadata": {}
  },
  {
   "cell_type": "code",
   "execution_count": 8,
   "metadata": {},
   "outputs": [],
   "source": [
    "dataset = data[:,0:2]\n",
    "matriz_x = np.hstack((dataset[:,1].reshape(dataset[:,1].size,1),np.ones((dataset[:,1].size,1))))\n",
    "data_x = data[:,1]\n",
    "data_y = data[:,0]"
   ]
  },
  {
   "cell_type": "code",
   "execution_count": 77,
   "metadata": {},
   "outputs": [],
   "source": [
    "def error(y, y_pred):\n",
    "    return 1/2*tf.reduce_mean(tf.math.square(y - y_pred))"
   ]
  },
  {
   "source": [
    "tf.reset_default_graph()\n",
    "g = tf.Graph()\n",
    "with g.as_default():\n",
    "    parametros_entrenables = tf.get_variable(name=\"Parametros_Entrenables\", dtype=tf.float32, #shape=[2,1], \n",
    "                                initializer=[[0.5],[1.0]])\n",
    "    \n",
    "    tensor_x = tf.placeholder(dtype=tf.float32,name=\"X\")\n",
    "    tensor_y = tf.placeholder(dtype=tf.float32,name=\"Y\")\n",
    "\n",
    "    with tf.name_scope(\"Matriz_X\"):\n",
    "        matriz_x = tf.stack([tensor_x, tf.ones(tf.shape(tensor_x))],1)\n",
    "    with tf.name_scope(\"Model\"):\n",
    "        y_pred = tf.linalg.matmul(matriz_x,parametros_entrenables)\n",
    "    with tf.name_scope(\"MSE\"):\n",
    "        MSE = error(tensor_y, y_pred)\n",
    "        cost_summary = tf.summary.scalar(\"cost\",MSE)\n",
    "    with tf.name_scope(\"Gradient_Descent\"):\n",
    "        gradientes = tf.gradients(MSE,parametros_entrenables, name=\"Gradients\")\n",
    "        actualizacion_parametros = tf.assign(parametros_entrenables,parametros_entrenables - lr*gradientes[0], name=\"Parameters_Update\")\n",
    "        \n",
    "\n"
   ],
   "cell_type": "code",
   "metadata": {
    "tags": []
   },
   "execution_count": 130,
   "outputs": []
  },
  {
   "cell_type": "code",
   "execution_count": 138,
   "metadata": {
    "tags": []
   },
   "outputs": [],
   "source": [
    "def TrainingModel(dataX, dataY, epochs, batch_size, lr):\n",
    "    total_iteraciones = int(dataX.size/batch_size)\n",
    "\n",
    "    tf.reset_default_graph()\n",
    "    with tf.Session(graph=g) as session:\n",
    "        writer = tf.summary.FileWriter('./graphs/Tarea1-LinearRegression_epochs='+str(epochs)+'_batchsize='+str(batch_size)+'_lr='+str(lr), session.graph)\n",
    "        init = tf.global_variables_initializer()\n",
    "        session.run(init)\n",
    "        for epoch in range(epochs):\n",
    "            for i in range(total_iteraciones):\n",
    "                muestra_inicio = i * batch_size\n",
    "                muestra_fin = muestra_inicio + batch_size\n",
    "                x = np.array(data_x[muestra_inicio:muestra_fin])\n",
    "                y = np.array(data_y[muestra_inicio:muestra_fin])\n",
    "                feed_dict = {tensor_x:x, tensor_y:y}\n",
    "                parametros= session.run([actualizacion_parametros],feed_dict=feed_dict)\n",
    "                #print(\"Epoch {} iteracion {} m={} b={}\".format(epoch,i,parametros[0][0],parametros[0][1]))\n",
    "            feed_dict = {tensor_x:data_x, tensor_y:data_y}\n",
    "            predicciones, c = session.run([y_pred,cost_summary],feed_dict=feed_dict)\n",
    "            writer.add_summary(c, epoch)\n"
   ]
  },
  {
   "cell_type": "code",
   "execution_count": 149,
   "metadata": {},
   "outputs": [],
   "source": [
    "lr = 0.01\n",
    "batch_size = 50\n",
    "epochs = 250\n",
    "\n",
    "TrainingModel(data_x,data_y, epochs, batch_size,lr)"
   ]
  },
  {
   "source": [
    "## Grafo final de Tensorboard\n",
    "<img src=\"./Grafo.png\">\n"
   ],
   "cell_type": "markdown",
   "metadata": {}
  },
  {
   "source": [
    "## Graficas de Costo\n",
    "<img src=\"./Graficas Costo.png\">"
   ],
   "cell_type": "markdown",
   "metadata": {}
  },
  {
   "source": [
    "## Conclusion:\n",
    "El modelo que mejor resultados tuvo fue el que fue ejecutado con 250 epochs, un mini-batch de 50 y un learning rate de 0.01, el cual es donde ya no tiene tanto cambio el costo y es el menor de epochs que se pueden utilizar sin perder precision.\n",
    "\n",
    "<img src=\"./Mejor Modelo.png\">"
   ],
   "cell_type": "markdown",
   "metadata": {}
  }
 ]
}