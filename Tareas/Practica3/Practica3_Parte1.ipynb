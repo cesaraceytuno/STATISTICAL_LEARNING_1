{
 "metadata": {
  "language_info": {
   "codemirror_mode": {
    "name": "ipython",
    "version": 3
   },
   "file_extension": ".py",
   "mimetype": "text/x-python",
   "name": "python",
   "nbconvert_exporter": "python",
   "pygments_lexer": "ipython3",
   "version": "3.6.13"
  },
  "orig_nbformat": 2,
  "kernelspec": {
   "name": "python3",
   "display_name": "Python 3.6.13 64-bit ('tf-gpu': conda)"
  },
  "interpreter": {
   "hash": "0fe48540b924844261e3e812ebc1f04ba59a0bcb45a4d5a15acd82b1a1cd055a"
  }
 },
 "nbformat": 4,
 "nbformat_minor": 2,
 "cells": [
  {
   "cell_type": "code",
   "execution_count": 3,
   "metadata": {},
   "outputs": [],
   "source": [
    "import tensorflow as tf\n",
    "from tensorflow import keras\n",
    "import numpy as np\n",
    "import matplotlib.pyplot as plt\n",
    "import pandas as pd"
   ]
  },
  {
   "cell_type": "code",
   "execution_count": 4,
   "metadata": {},
   "outputs": [
    {
     "output_type": "stream",
     "name": "stdout",
     "text": [
      "WARNING:tensorflow:From C:\\Users\\cesar\\anaconda3\\envs\\tf-gpu\\lib\\site-packages\\tensorflow_core\\python\\compat\\v2_compat.py:88: disable_resource_variables (from tensorflow.python.ops.variable_scope) is deprecated and will be removed in a future version.\nInstructions for updating:\nnon-resource variables are not supported in the long term\n"
     ]
    }
   ],
   "source": [
    "import tensorflow as tf\n",
    "if tf.__version__.startswith(\"2.\"):\n",
    "  import tensorflow.compat.v1 as tf\n",
    "  tf.compat.v1.disable_v2_behavior()\n",
    "  tf.compat.v1.disable_eager_execution()"
   ]
  },
  {
   "cell_type": "code",
   "execution_count": 5,
   "metadata": {},
   "outputs": [
    {
     "output_type": "stream",
     "name": "stdout",
     "text": [
      "[name: \"/device:CPU:0\"\ndevice_type: \"CPU\"\nmemory_limit: 268435456\nlocality {\n}\nincarnation: 12337535151978472183\n, name: \"/device:GPU:0\"\ndevice_type: \"GPU\"\nmemory_limit: 4963368960\nlocality {\n  bus_id: 1\n  links {\n  }\n}\nincarnation: 2271458519134513369\nphysical_device_desc: \"device: 0, name: NVIDIA GeForce RTX 2060, pci bus id: 0000:01:00.0, compute capability: 7.5\"\n]\n"
     ]
    }
   ],
   "source": [
    "from tensorflow.python.client import device_lib\n",
    "print(device_lib.list_local_devices())\n",
    "\n"
   ]
  },
  {
   "cell_type": "code",
   "execution_count": 6,
   "metadata": {},
   "outputs": [],
   "source": [
    "fashion_mnist = keras.datasets.fashion_mnist\n",
    "(train_images, train_labels), (test_images, test_labels) = fashion_mnist.load_data()"
   ]
  },
  {
   "cell_type": "code",
   "execution_count": 7,
   "metadata": {},
   "outputs": [],
   "source": [
    "filter_train_labels = train_labels < 5\n",
    "filter_test_labels = test_labels < 5\n",
    "train_images = train_images[filter_train_labels]\n",
    "train_labels = train_labels[filter_train_labels]\n",
    "test_images = test_images[filter_test_labels]\n",
    "test_labels = test_labels[filter_test_labels]"
   ]
  },
  {
   "cell_type": "code",
   "execution_count": 8,
   "metadata": {},
   "outputs": [
    {
     "output_type": "execute_result",
     "data": {
      "text/plain": [
       "<matplotlib.colorbar.Colorbar at 0x1632a5d2898>"
      ]
     },
     "metadata": {},
     "execution_count": 8
    },
    {
     "output_type": "display_data",
     "data": {
      "text/plain": "<Figure size 432x288 with 2 Axes>",
      "image/svg+xml": "<?xml version=\"1.0\" encoding=\"utf-8\" standalone=\"no\"?>\r\n<!DOCTYPE svg PUBLIC \"-//W3C//DTD SVG 1.1//EN\"\r\n  \"http://www.w3.org/Graphics/SVG/1.1/DTD/svg11.dtd\">\r\n<!-- Created with matplotlib (https://matplotlib.org/) -->\r\n<svg height=\"248.518125pt\" version=\"1.1\" viewBox=\"0 0 305.2645 248.518125\" width=\"305.2645pt\" xmlns=\"http://www.w3.org/2000/svg\" xmlns:xlink=\"http://www.w3.org/1999/xlink\">\r\n <metadata>\r\n  <rdf:RDF xmlns:cc=\"http://creativecommons.org/ns#\" xmlns:dc=\"http://purl.org/dc/elements/1.1/\" xmlns:rdf=\"http://www.w3.org/1999/02/22-rdf-syntax-ns#\">\r\n   <cc:Work>\r\n    <dc:type rdf:resource=\"http://purl.org/dc/dcmitype/StillImage\"/>\r\n    <dc:date>2021-06-17T21:50:53.837136</dc:date>\r\n    <dc:format>image/svg+xml</dc:format>\r\n    <dc:creator>\r\n     <cc:Agent>\r\n      <dc:title>Matplotlib v3.3.4, https://matplotlib.org/</dc:title>\r\n     </cc:Agent>\r\n    </dc:creator>\r\n   </cc:Work>\r\n  </rdf:RDF>\r\n </metadata>\r\n <defs>\r\n  <style type=\"text/css\">*{stroke-linecap:butt;stroke-linejoin:round;}</style>\r\n </defs>\r\n <g id=\"figure_1\">\r\n  <g id=\"patch_1\">\r\n   <path d=\"M 0 248.518125 \r\nL 305.2645 248.518125 \r\nL 305.2645 0 \r\nL 0 0 \r\nz\r\n\" style=\"fill:none;\"/>\r\n  </g>\r\n  <g id=\"axes_1\">\r\n   <g id=\"patch_2\">\r\n    <path d=\"M 26.925 224.64 \r\nL 244.365 224.64 \r\nL 244.365 7.2 \r\nL 26.925 7.2 \r\nz\r\n\" style=\"fill:#ffffff;\"/>\r\n   </g>\r\n   <g clip-path=\"url(#p67900bbd01)\">\r\n    <image height=\"218\" id=\"imaged3ac48cfd9\" transform=\"scale(1 -1)translate(0 -218)\" width=\"218\" x=\"26.925\" xlink:href=\"data:image/png;base64,\r\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\" y=\"-6.64\"/>\r\n   </g>\r\n   <g id=\"matplotlib.axis_1\">\r\n    <g id=\"xtick_1\">\r\n     <g id=\"line2d_1\">\r\n      <defs>\r\n       <path d=\"M 0 0 \r\nL 0 3.5 \r\n\" id=\"m05c1a520a7\" style=\"stroke:#000000;stroke-width:0.8;\"/>\r\n      </defs>\r\n      <g>\r\n       <use style=\"stroke:#000000;stroke-width:0.8;\" x=\"30.807857\" xlink:href=\"#m05c1a520a7\" y=\"224.64\"/>\r\n      </g>\r\n     </g>\r\n     <g id=\"text_1\">\r\n      <!-- 0 -->\r\n      <g transform=\"translate(27.626607 239.238437)scale(0.1 -0.1)\">\r\n       <defs>\r\n        <path d=\"M 31.78125 66.40625 \r\nQ 24.171875 66.40625 20.328125 58.90625 \r\nQ 16.5 51.421875 16.5 36.375 \r\nQ 16.5 21.390625 20.328125 13.890625 \r\nQ 24.171875 6.390625 31.78125 6.390625 \r\nQ 39.453125 6.390625 43.28125 13.890625 \r\nQ 47.125 21.390625 47.125 36.375 \r\nQ 47.125 51.421875 43.28125 58.90625 \r\nQ 39.453125 66.40625 31.78125 66.40625 \r\nz\r\nM 31.78125 74.21875 \r\nQ 44.046875 74.21875 50.515625 64.515625 \r\nQ 56.984375 54.828125 56.984375 36.375 \r\nQ 56.984375 17.96875 50.515625 8.265625 \r\nQ 44.046875 -1.421875 31.78125 -1.421875 \r\nQ 19.53125 -1.421875 13.0625 8.265625 \r\nQ 6.59375 17.96875 6.59375 36.375 \r\nQ 6.59375 54.828125 13.0625 64.515625 \r\nQ 19.53125 74.21875 31.78125 74.21875 \r\nz\r\n\" id=\"DejaVuSans-48\"/>\r\n       </defs>\r\n       <use xlink:href=\"#DejaVuSans-48\"/>\r\n      </g>\r\n     </g>\r\n    </g>\r\n    <g id=\"xtick_2\">\r\n     <g id=\"line2d_2\">\r\n      <g>\r\n       <use style=\"stroke:#000000;stroke-width:0.8;\" x=\"69.636429\" xlink:href=\"#m05c1a520a7\" y=\"224.64\"/>\r\n      </g>\r\n     </g>\r\n     <g id=\"text_2\">\r\n      <!-- 5 -->\r\n      <g transform=\"translate(66.455179 239.238437)scale(0.1 -0.1)\">\r\n       <defs>\r\n        <path d=\"M 10.796875 72.90625 \r\nL 49.515625 72.90625 \r\nL 49.515625 64.59375 \r\nL 19.828125 64.59375 \r\nL 19.828125 46.734375 \r\nQ 21.96875 47.46875 24.109375 47.828125 \r\nQ 26.265625 48.1875 28.421875 48.1875 \r\nQ 40.625 48.1875 47.75 41.5 \r\nQ 54.890625 34.8125 54.890625 23.390625 \r\nQ 54.890625 11.625 47.5625 5.09375 \r\nQ 40.234375 -1.421875 26.90625 -1.421875 \r\nQ 22.3125 -1.421875 17.546875 -0.640625 \r\nQ 12.796875 0.140625 7.71875 1.703125 \r\nL 7.71875 11.625 \r\nQ 12.109375 9.234375 16.796875 8.0625 \r\nQ 21.484375 6.890625 26.703125 6.890625 \r\nQ 35.15625 6.890625 40.078125 11.328125 \r\nQ 45.015625 15.765625 45.015625 23.390625 \r\nQ 45.015625 31 40.078125 35.4375 \r\nQ 35.15625 39.890625 26.703125 39.890625 \r\nQ 22.75 39.890625 18.8125 39.015625 \r\nQ 14.890625 38.140625 10.796875 36.28125 \r\nz\r\n\" id=\"DejaVuSans-53\"/>\r\n       </defs>\r\n       <use xlink:href=\"#DejaVuSans-53\"/>\r\n      </g>\r\n     </g>\r\n    </g>\r\n    <g id=\"xtick_3\">\r\n     <g id=\"line2d_3\">\r\n      <g>\r\n       <use style=\"stroke:#000000;stroke-width:0.8;\" x=\"108.465\" xlink:href=\"#m05c1a520a7\" y=\"224.64\"/>\r\n      </g>\r\n     </g>\r\n     <g id=\"text_3\">\r\n      <!-- 10 -->\r\n      <g transform=\"translate(102.1025 239.238437)scale(0.1 -0.1)\">\r\n       <defs>\r\n        <path d=\"M 12.40625 8.296875 \r\nL 28.515625 8.296875 \r\nL 28.515625 63.921875 \r\nL 10.984375 60.40625 \r\nL 10.984375 69.390625 \r\nL 28.421875 72.90625 \r\nL 38.28125 72.90625 \r\nL 38.28125 8.296875 \r\nL 54.390625 8.296875 \r\nL 54.390625 0 \r\nL 12.40625 0 \r\nz\r\n\" id=\"DejaVuSans-49\"/>\r\n       </defs>\r\n       <use xlink:href=\"#DejaVuSans-49\"/>\r\n       <use x=\"63.623047\" xlink:href=\"#DejaVuSans-48\"/>\r\n      </g>\r\n     </g>\r\n    </g>\r\n    <g id=\"xtick_4\">\r\n     <g id=\"line2d_4\">\r\n      <g>\r\n       <use style=\"stroke:#000000;stroke-width:0.8;\" x=\"147.293571\" xlink:href=\"#m05c1a520a7\" y=\"224.64\"/>\r\n      </g>\r\n     </g>\r\n     <g id=\"text_4\">\r\n      <!-- 15 -->\r\n      <g transform=\"translate(140.931071 239.238437)scale(0.1 -0.1)\">\r\n       <use xlink:href=\"#DejaVuSans-49\"/>\r\n       <use x=\"63.623047\" xlink:href=\"#DejaVuSans-53\"/>\r\n      </g>\r\n     </g>\r\n    </g>\r\n    <g id=\"xtick_5\">\r\n     <g id=\"line2d_5\">\r\n      <g>\r\n       <use style=\"stroke:#000000;stroke-width:0.8;\" x=\"186.122143\" xlink:href=\"#m05c1a520a7\" y=\"224.64\"/>\r\n      </g>\r\n     </g>\r\n     <g id=\"text_5\">\r\n      <!-- 20 -->\r\n      <g transform=\"translate(179.759643 239.238437)scale(0.1 -0.1)\">\r\n       <defs>\r\n        <path d=\"M 19.1875 8.296875 \r\nL 53.609375 8.296875 \r\nL 53.609375 0 \r\nL 7.328125 0 \r\nL 7.328125 8.296875 \r\nQ 12.9375 14.109375 22.625 23.890625 \r\nQ 32.328125 33.6875 34.8125 36.53125 \r\nQ 39.546875 41.84375 41.421875 45.53125 \r\nQ 43.3125 49.21875 43.3125 52.78125 \r\nQ 43.3125 58.59375 39.234375 62.25 \r\nQ 35.15625 65.921875 28.609375 65.921875 \r\nQ 23.96875 65.921875 18.8125 64.3125 \r\nQ 13.671875 62.703125 7.8125 59.421875 \r\nL 7.8125 69.390625 \r\nQ 13.765625 71.78125 18.9375 73 \r\nQ 24.125 74.21875 28.421875 74.21875 \r\nQ 39.75 74.21875 46.484375 68.546875 \r\nQ 53.21875 62.890625 53.21875 53.421875 \r\nQ 53.21875 48.921875 51.53125 44.890625 \r\nQ 49.859375 40.875 45.40625 35.40625 \r\nQ 44.1875 33.984375 37.640625 27.21875 \r\nQ 31.109375 20.453125 19.1875 8.296875 \r\nz\r\n\" id=\"DejaVuSans-50\"/>\r\n       </defs>\r\n       <use xlink:href=\"#DejaVuSans-50\"/>\r\n       <use x=\"63.623047\" xlink:href=\"#DejaVuSans-48\"/>\r\n      </g>\r\n     </g>\r\n    </g>\r\n    <g id=\"xtick_6\">\r\n     <g id=\"line2d_6\">\r\n      <g>\r\n       <use style=\"stroke:#000000;stroke-width:0.8;\" x=\"224.950714\" xlink:href=\"#m05c1a520a7\" y=\"224.64\"/>\r\n      </g>\r\n     </g>\r\n     <g id=\"text_6\">\r\n      <!-- 25 -->\r\n      <g transform=\"translate(218.588214 239.238437)scale(0.1 -0.1)\">\r\n       <use xlink:href=\"#DejaVuSans-50\"/>\r\n       <use x=\"63.623047\" xlink:href=\"#DejaVuSans-53\"/>\r\n      </g>\r\n     </g>\r\n    </g>\r\n   </g>\r\n   <g id=\"matplotlib.axis_2\">\r\n    <g id=\"ytick_1\">\r\n     <g id=\"line2d_7\">\r\n      <defs>\r\n       <path d=\"M 0 0 \r\nL -3.5 0 \r\n\" id=\"m8c010653a6\" style=\"stroke:#000000;stroke-width:0.8;\"/>\r\n      </defs>\r\n      <g>\r\n       <use style=\"stroke:#000000;stroke-width:0.8;\" x=\"26.925\" xlink:href=\"#m8c010653a6\" y=\"11.082857\"/>\r\n      </g>\r\n     </g>\r\n     <g id=\"text_7\">\r\n      <!-- 0 -->\r\n      <g transform=\"translate(13.5625 14.882076)scale(0.1 -0.1)\">\r\n       <use xlink:href=\"#DejaVuSans-48\"/>\r\n      </g>\r\n     </g>\r\n    </g>\r\n    <g id=\"ytick_2\">\r\n     <g id=\"line2d_8\">\r\n      <g>\r\n       <use style=\"stroke:#000000;stroke-width:0.8;\" x=\"26.925\" xlink:href=\"#m8c010653a6\" y=\"49.911429\"/>\r\n      </g>\r\n     </g>\r\n     <g id=\"text_8\">\r\n      <!-- 5 -->\r\n      <g transform=\"translate(13.5625 53.710647)scale(0.1 -0.1)\">\r\n       <use xlink:href=\"#DejaVuSans-53\"/>\r\n      </g>\r\n     </g>\r\n    </g>\r\n    <g id=\"ytick_3\">\r\n     <g id=\"line2d_9\">\r\n      <g>\r\n       <use style=\"stroke:#000000;stroke-width:0.8;\" x=\"26.925\" xlink:href=\"#m8c010653a6\" y=\"88.74\"/>\r\n      </g>\r\n     </g>\r\n     <g id=\"text_9\">\r\n      <!-- 10 -->\r\n      <g transform=\"translate(7.2 92.539219)scale(0.1 -0.1)\">\r\n       <use xlink:href=\"#DejaVuSans-49\"/>\r\n       <use x=\"63.623047\" xlink:href=\"#DejaVuSans-48\"/>\r\n      </g>\r\n     </g>\r\n    </g>\r\n    <g id=\"ytick_4\">\r\n     <g id=\"line2d_10\">\r\n      <g>\r\n       <use style=\"stroke:#000000;stroke-width:0.8;\" x=\"26.925\" xlink:href=\"#m8c010653a6\" y=\"127.568571\"/>\r\n      </g>\r\n     </g>\r\n     <g id=\"text_10\">\r\n      <!-- 15 -->\r\n      <g transform=\"translate(7.2 131.36779)scale(0.1 -0.1)\">\r\n       <use xlink:href=\"#DejaVuSans-49\"/>\r\n       <use x=\"63.623047\" xlink:href=\"#DejaVuSans-53\"/>\r\n      </g>\r\n     </g>\r\n    </g>\r\n    <g id=\"ytick_5\">\r\n     <g id=\"line2d_11\">\r\n      <g>\r\n       <use style=\"stroke:#000000;stroke-width:0.8;\" x=\"26.925\" xlink:href=\"#m8c010653a6\" y=\"166.397143\"/>\r\n      </g>\r\n     </g>\r\n     <g id=\"text_11\">\r\n      <!-- 20 -->\r\n      <g transform=\"translate(7.2 170.196362)scale(0.1 -0.1)\">\r\n       <use xlink:href=\"#DejaVuSans-50\"/>\r\n       <use x=\"63.623047\" xlink:href=\"#DejaVuSans-48\"/>\r\n      </g>\r\n     </g>\r\n    </g>\r\n    <g id=\"ytick_6\">\r\n     <g id=\"line2d_12\">\r\n      <g>\r\n       <use style=\"stroke:#000000;stroke-width:0.8;\" x=\"26.925\" xlink:href=\"#m8c010653a6\" y=\"205.225714\"/>\r\n      </g>\r\n     </g>\r\n     <g id=\"text_12\">\r\n      <!-- 25 -->\r\n      <g transform=\"translate(7.2 209.024933)scale(0.1 -0.1)\">\r\n       <use xlink:href=\"#DejaVuSans-50\"/>\r\n       <use x=\"63.623047\" xlink:href=\"#DejaVuSans-53\"/>\r\n      </g>\r\n     </g>\r\n    </g>\r\n   </g>\r\n   <g id=\"patch_3\">\r\n    <path d=\"M 26.925 224.64 \r\nL 26.925 7.2 \r\n\" style=\"fill:none;stroke:#000000;stroke-linecap:square;stroke-linejoin:miter;stroke-width:0.8;\"/>\r\n   </g>\r\n   <g id=\"patch_4\">\r\n    <path d=\"M 244.365 224.64 \r\nL 244.365 7.2 \r\n\" style=\"fill:none;stroke:#000000;stroke-linecap:square;stroke-linejoin:miter;stroke-width:0.8;\"/>\r\n   </g>\r\n   <g id=\"patch_5\">\r\n    <path d=\"M 26.925 224.64 \r\nL 244.365 224.64 \r\n\" style=\"fill:none;stroke:#000000;stroke-linecap:square;stroke-linejoin:miter;stroke-width:0.8;\"/>\r\n   </g>\r\n   <g id=\"patch_6\">\r\n    <path d=\"M 26.925 7.2 \r\nL 244.365 7.2 \r\n\" style=\"fill:none;stroke:#000000;stroke-linecap:square;stroke-linejoin:miter;stroke-width:0.8;\"/>\r\n   </g>\r\n  </g>\r\n  <g id=\"axes_2\">\r\n   <g id=\"patch_7\">\r\n    <path clip-path=\"url(#pe47a757600)\" d=\"M 261.105 224.64 \r\nL 261.105 223.790625 \r\nL 261.105 8.049375 \r\nL 261.105 7.2 \r\nL 271.977 7.2 \r\nL 271.977 8.049375 \r\nL 271.977 223.790625 \r\nL 271.977 224.64 \r\nz\r\n\" style=\"fill:#ffffff;stroke:#ffffff;stroke-linejoin:miter;stroke-width:0.01;\"/>\r\n   </g>\r\n   <image height=\"217\" id=\"image31fd20c591\" transform=\"scale(1 -1)translate(0 -217)\" width=\"11\" x=\"261\" xlink:href=\"data:image/png;base64,\r\niVBORw0KGgoAAAANSUhEUgAAAAsAAADZCAYAAAD2WsoCAAAAgklEQVR4nO3QMQrAMBADwcj4/19O2iuNIGCWvXqL0yTJ+xzeTnLa/hmvtW5445JYjRnjNfAD1ahjvAZ+oBozxg9Uo47xGviBatQxXgM/UI06xmvgB6oxY/xANeoYr4EfqEYd4zXwA9WoY7wGfqAadYzXwA9UY8b4gWrUMV4DP5Cu8QHdRgdeRvf/PQAAAABJRU5ErkJggg==\" y=\"-7\"/>\r\n   <g id=\"matplotlib.axis_3\"/>\r\n   <g id=\"matplotlib.axis_4\">\r\n    <g id=\"ytick_7\">\r\n     <g id=\"line2d_13\">\r\n      <defs>\r\n       <path d=\"M 0 0 \r\nL 3.5 0 \r\n\" id=\"maad998819d\" style=\"stroke:#000000;stroke-width:0.8;\"/>\r\n      </defs>\r\n      <g>\r\n       <use style=\"stroke:#000000;stroke-width:0.8;\" x=\"271.977\" xlink:href=\"#maad998819d\" y=\"224.64\"/>\r\n      </g>\r\n     </g>\r\n     <g id=\"text_13\">\r\n      <!-- 0 -->\r\n      <g transform=\"translate(278.977 228.439219)scale(0.1 -0.1)\">\r\n       <use xlink:href=\"#DejaVuSans-48\"/>\r\n      </g>\r\n     </g>\r\n    </g>\r\n    <g id=\"ytick_8\">\r\n     <g id=\"line2d_14\">\r\n      <g>\r\n       <use style=\"stroke:#000000;stroke-width:0.8;\" x=\"271.977\" xlink:href=\"#maad998819d\" y=\"182.004706\"/>\r\n      </g>\r\n     </g>\r\n     <g id=\"text_14\">\r\n      <!-- 50 -->\r\n      <g transform=\"translate(278.977 185.803925)scale(0.1 -0.1)\">\r\n       <use xlink:href=\"#DejaVuSans-53\"/>\r\n       <use x=\"63.623047\" xlink:href=\"#DejaVuSans-48\"/>\r\n      </g>\r\n     </g>\r\n    </g>\r\n    <g id=\"ytick_9\">\r\n     <g id=\"line2d_15\">\r\n      <g>\r\n       <use style=\"stroke:#000000;stroke-width:0.8;\" x=\"271.977\" xlink:href=\"#maad998819d\" y=\"139.369412\"/>\r\n      </g>\r\n     </g>\r\n     <g id=\"text_15\">\r\n      <!-- 100 -->\r\n      <g transform=\"translate(278.977 143.168631)scale(0.1 -0.1)\">\r\n       <use xlink:href=\"#DejaVuSans-49\"/>\r\n       <use x=\"63.623047\" xlink:href=\"#DejaVuSans-48\"/>\r\n       <use x=\"127.246094\" xlink:href=\"#DejaVuSans-48\"/>\r\n      </g>\r\n     </g>\r\n    </g>\r\n    <g id=\"ytick_10\">\r\n     <g id=\"line2d_16\">\r\n      <g>\r\n       <use style=\"stroke:#000000;stroke-width:0.8;\" x=\"271.977\" xlink:href=\"#maad998819d\" y=\"96.734118\"/>\r\n      </g>\r\n     </g>\r\n     <g id=\"text_16\">\r\n      <!-- 150 -->\r\n      <g transform=\"translate(278.977 100.533336)scale(0.1 -0.1)\">\r\n       <use xlink:href=\"#DejaVuSans-49\"/>\r\n       <use x=\"63.623047\" xlink:href=\"#DejaVuSans-53\"/>\r\n       <use x=\"127.246094\" xlink:href=\"#DejaVuSans-48\"/>\r\n      </g>\r\n     </g>\r\n    </g>\r\n    <g id=\"ytick_11\">\r\n     <g id=\"line2d_17\">\r\n      <g>\r\n       <use style=\"stroke:#000000;stroke-width:0.8;\" x=\"271.977\" xlink:href=\"#maad998819d\" y=\"54.098824\"/>\r\n      </g>\r\n     </g>\r\n     <g id=\"text_17\">\r\n      <!-- 200 -->\r\n      <g transform=\"translate(278.977 57.898042)scale(0.1 -0.1)\">\r\n       <use xlink:href=\"#DejaVuSans-50\"/>\r\n       <use x=\"63.623047\" xlink:href=\"#DejaVuSans-48\"/>\r\n       <use x=\"127.246094\" xlink:href=\"#DejaVuSans-48\"/>\r\n      </g>\r\n     </g>\r\n    </g>\r\n    <g id=\"ytick_12\">\r\n     <g id=\"line2d_18\">\r\n      <g>\r\n       <use style=\"stroke:#000000;stroke-width:0.8;\" x=\"271.977\" xlink:href=\"#maad998819d\" y=\"11.463529\"/>\r\n      </g>\r\n     </g>\r\n     <g id=\"text_18\">\r\n      <!-- 250 -->\r\n      <g transform=\"translate(278.977 15.262748)scale(0.1 -0.1)\">\r\n       <use xlink:href=\"#DejaVuSans-50\"/>\r\n       <use x=\"63.623047\" xlink:href=\"#DejaVuSans-53\"/>\r\n       <use x=\"127.246094\" xlink:href=\"#DejaVuSans-48\"/>\r\n      </g>\r\n     </g>\r\n    </g>\r\n   </g>\r\n   <g id=\"patch_8\">\r\n    <path d=\"M 261.105 224.64 \r\nL 261.105 223.790625 \r\nL 261.105 8.049375 \r\nL 261.105 7.2 \r\nL 271.977 7.2 \r\nL 271.977 8.049375 \r\nL 271.977 223.790625 \r\nL 271.977 224.64 \r\nz\r\n\" style=\"fill:none;stroke:#000000;stroke-linejoin:miter;stroke-width:0.8;\"/>\r\n   </g>\r\n  </g>\r\n </g>\r\n <defs>\r\n  <clipPath id=\"p67900bbd01\">\r\n   <rect height=\"217.44\" width=\"217.44\" x=\"26.925\" y=\"7.2\"/>\r\n  </clipPath>\r\n  <clipPath id=\"pe47a757600\">\r\n   <rect height=\"217.44\" width=\"10.872\" x=\"261.105\" y=\"7.2\"/>\r\n  </clipPath>\r\n </defs>\r\n</svg>\r\n",
      "image/png": "[encoded data removed]"
     },
     "metadata": {
      "needs_background": "light"
     }
    }
   ],
   "source": [
    "plt.imshow(train_images[9], cmap = 'gray')\n",
    "plt.colorbar()"
   ]
  },
  {
   "cell_type": "code",
   "execution_count": 9,
   "metadata": {},
   "outputs": [
    {
     "output_type": "execute_result",
     "data": {
      "text/plain": [
       "(30000, 784)"
      ]
     },
     "metadata": {},
     "execution_count": 9
    }
   ],
   "source": [
    "num_images, width, height = np.shape(train_images)\n",
    "image_size = width * height\n",
    "num_images, image_size"
   ]
  },
  {
   "cell_type": "code",
   "execution_count": 10,
   "metadata": {},
   "outputs": [],
   "source": [
    "dict_labels = {\n",
    "    0: \"T-shirt/top\",\n",
    "    1: \"Trouser\",\n",
    "    2: \"Pullover\",\n",
    "    3: \"Dress\",\n",
    "    4: \"Coat\",\n",
    "    5: \"Sandal\",\n",
    "    6: \"Shirt\",\n",
    "    7: \"Sneaker\",\n",
    "    8: \"Bag\",\n",
    "    9: \"Ankle boot\"\n",
    "}\n",
    "num_labels = len(dict_labels)"
   ]
  },
  {
   "cell_type": "code",
   "execution_count": 11,
   "metadata": {},
   "outputs": [
    {
     "output_type": "execute_result",
     "data": {
      "text/plain": [
       "       0    1    2    3    4    5    6    7     8     9    ...    775    776  \\\n",
       "0      0.0  0.0  0.0  0.0  0.0  1.0  0.0  0.0   0.0   0.0  ...  114.0  130.0   \n",
       "1      0.0  0.0  0.0  0.0  0.0  0.0  0.0  0.0   0.0  22.0  ...    0.0    1.0   \n",
       "2      0.0  0.0  0.0  0.0  0.0  0.0  0.0  0.0  33.0  96.0  ...    0.0    0.0   \n",
       "3      0.0  0.0  0.0  0.0  0.0  0.0  0.0  0.0   0.0   0.0  ...    0.0    0.0   \n",
       "4      0.0  0.0  0.0  0.0  1.0  0.0  0.0  0.0   0.0  22.0  ...    0.0    0.0   \n",
       "...    ...  ...  ...  ...  ...  ...  ...  ...   ...   ...  ...    ...    ...   \n",
       "29995  0.0  0.0  0.0  0.0  0.0  0.0  0.0  0.0   0.0   0.0  ...    0.0    0.0   \n",
       "29996  0.0  0.0  0.0  0.0  0.0  0.0  0.0  0.0   0.0   0.0  ...    0.0  128.0   \n",
       "29997  0.0  0.0  0.0  0.0  0.0  0.0  0.0  0.0   0.0   0.0  ...    0.0    0.0   \n",
       "29998  0.0  0.0  0.0  0.0  0.0  0.0  0.0  0.0   0.0   5.0  ...    0.0    0.0   \n",
       "29999  0.0  0.0  0.0  0.0  0.0  0.0  0.0  0.0   0.0   0.0  ...   54.0   50.0   \n",
       "\n",
       "         777    778    779   780  781  782  783  784  \n",
       "0       76.0    0.0    0.0   0.0  0.0  0.0  0.0  1.0  \n",
       "1        0.0    0.0    0.0   0.0  0.0  0.0  0.0  1.0  \n",
       "2        0.0    0.0    0.0   0.0  0.0  0.0  0.0  1.0  \n",
       "3        0.0    0.0    0.0   0.0  0.0  0.0  0.0  1.0  \n",
       "4        0.0  133.0  167.0  73.0  0.0  0.0  0.0  1.0  \n",
       "...      ...    ...    ...   ...  ...  ...  ...  ...  \n",
       "29995    0.0    0.0    0.0   0.0  0.0  0.0  0.0  1.0  \n",
       "29996  163.0   62.0    0.0   0.0  0.0  0.0  0.0  1.0  \n",
       "29997    0.0    0.0    0.0   0.0  0.0  0.0  0.0  1.0  \n",
       "29998    0.0    0.0    0.0   0.0  0.0  0.0  0.0  1.0  \n",
       "29999    5.0    0.0    1.0   0.0  0.0  0.0  0.0  1.0  \n",
       "\n",
       "[30000 rows x 785 columns]"
      ],
      "text/html": "<div>\n<style scoped>\n    .dataframe tbody tr th:only-of-type {\n        vertical-align: middle;\n    }\n\n    .dataframe tbody tr th {\n        vertical-align: top;\n    }\n\n    .dataframe thead th {\n        text-align: right;\n    }\n</style>\n<table border=\"1\" class=\"dataframe\">\n  <thead>\n    <tr style=\"text-align: right;\">\n      <th></th>\n      <th>0</th>\n      <th>1</th>\n      <th>2</th>\n      <th>3</th>\n      <th>4</th>\n      <th>5</th>\n      <th>6</th>\n      <th>7</th>\n      <th>8</th>\n      <th>9</th>\n      <th>...</th>\n      <th>775</th>\n      <th>776</th>\n      <th>777</th>\n      <th>778</th>\n      <th>779</th>\n      <th>780</th>\n      <th>781</th>\n      <th>782</th>\n      <th>783</th>\n      <th>784</th>\n    </tr>\n  </thead>\n  <tbody>\n    <tr>\n      <th>0</th>\n      <td>0.0</td>\n      <td>0.0</td>\n      <td>0.0</td>\n      <td>0.0</td>\n      <td>0.0</td>\n      <td>1.0</td>\n      <td>0.0</td>\n      <td>0.0</td>\n      <td>0.0</td>\n      <td>0.0</td>\n      <td>...</td>\n      <td>114.0</td>\n      <td>130.0</td>\n      <td>76.0</td>\n      <td>0.0</td>\n      <td>0.0</td>\n      <td>0.0</td>\n      <td>0.0</td>\n      <td>0.0</td>\n      <td>0.0</td>\n      <td>1.0</td>\n    </tr>\n    <tr>\n      <th>1</th>\n      <td>0.0</td>\n      <td>0.0</td>\n      <td>0.0</td>\n      <td>0.0</td>\n      <td>0.0</td>\n      <td>0.0</td>\n      <td>0.0</td>\n      <td>0.0</td>\n      <td>0.0</td>\n      <td>22.0</td>\n      <td>...</td>\n      <td>0.0</td>\n      <td>1.0</td>\n      <td>0.0</td>\n      <td>0.0</td>\n      <td>0.0</td>\n      <td>0.0</td>\n      <td>0.0</td>\n      <td>0.0</td>\n      <td>0.0</td>\n      <td>1.0</td>\n    </tr>\n    <tr>\n      <th>2</th>\n      <td>0.0</td>\n      <td>0.0</td>\n      <td>0.0</td>\n      <td>0.0</td>\n      <td>0.0</td>\n      <td>0.0</td>\n      <td>0.0</td>\n      <td>0.0</td>\n      <td>33.0</td>\n      <td>96.0</td>\n      <td>...</td>\n      <td>0.0</td>\n      <td>0.0</td>\n      <td>0.0</td>\n      <td>0.0</td>\n      <td>0.0</td>\n      <td>0.0</td>\n      <td>0.0</td>\n      <td>0.0</td>\n      <td>0.0</td>\n      <td>1.0</td>\n    </tr>\n    <tr>\n      <th>3</th>\n      <td>0.0</td>\n      <td>0.0</td>\n      <td>0.0</td>\n      <td>0.0</td>\n      <td>0.0</td>\n      <td>0.0</td>\n      <td>0.0</td>\n      <td>0.0</td>\n      <td>0.0</td>\n      <td>0.0</td>\n      <td>...</td>\n      <td>0.0</td>\n      <td>0.0</td>\n      <td>0.0</td>\n      <td>0.0</td>\n      <td>0.0</td>\n      <td>0.0</td>\n      <td>0.0</td>\n      <td>0.0</td>\n      <td>0.0</td>\n      <td>1.0</td>\n    </tr>\n    <tr>\n      <th>4</th>\n      <td>0.0</td>\n      <td>0.0</td>\n      <td>0.0</td>\n      <td>0.0</td>\n      <td>1.0</td>\n      <td>0.0</td>\n      <td>0.0</td>\n      <td>0.0</td>\n      <td>0.0</td>\n      <td>22.0</td>\n      <td>...</td>\n      <td>0.0</td>\n      <td>0.0</td>\n      <td>0.0</td>\n      <td>133.0</td>\n      <td>167.0</td>\n      <td>73.0</td>\n      <td>0.0</td>\n      <td>0.0</td>\n      <td>0.0</td>\n      <td>1.0</td>\n    </tr>\n    <tr>\n      <th>...</th>\n      <td>...</td>\n      <td>...</td>\n      <td>...</td>\n      <td>...</td>\n      <td>...</td>\n      <td>...</td>\n      <td>...</td>\n      <td>...</td>\n      <td>...</td>\n      <td>...</td>\n      <td>...</td>\n      <td>...</td>\n      <td>...</td>\n      <td>...</td>\n      <td>...</td>\n      <td>...</td>\n      <td>...</td>\n      <td>...</td>\n      <td>...</td>\n      <td>...</td>\n      <td>...</td>\n    </tr>\n    <tr>\n      <th>29995</th>\n      <td>0.0</td>\n      <td>0.0</td>\n      <td>0.0</td>\n      <td>0.0</td>\n      <td>0.0</td>\n      <td>0.0</td>\n      <td>0.0</td>\n      <td>0.0</td>\n      <td>0.0</td>\n      <td>0.0</td>\n      <td>...</td>\n      <td>0.0</td>\n      <td>0.0</td>\n      <td>0.0</td>\n      <td>0.0</td>\n      <td>0.0</td>\n      <td>0.0</td>\n      <td>0.0</td>\n      <td>0.0</td>\n      <td>0.0</td>\n      <td>1.0</td>\n    </tr>\n    <tr>\n      <th>29996</th>\n      <td>0.0</td>\n      <td>0.0</td>\n      <td>0.0</td>\n      <td>0.0</td>\n      <td>0.0</td>\n      <td>0.0</td>\n      <td>0.0</td>\n      <td>0.0</td>\n      <td>0.0</td>\n      <td>0.0</td>\n      <td>...</td>\n      <td>0.0</td>\n      <td>128.0</td>\n      <td>163.0</td>\n      <td>62.0</td>\n      <td>0.0</td>\n      <td>0.0</td>\n      <td>0.0</td>\n      <td>0.0</td>\n      <td>0.0</td>\n      <td>1.0</td>\n    </tr>\n    <tr>\n      <th>29997</th>\n      <td>0.0</td>\n      <td>0.0</td>\n      <td>0.0</td>\n      <td>0.0</td>\n      <td>0.0</td>\n      <td>0.0</td>\n      <td>0.0</td>\n      <td>0.0</td>\n      <td>0.0</td>\n      <td>0.0</td>\n      <td>...</td>\n      <td>0.0</td>\n      <td>0.0</td>\n      <td>0.0</td>\n      <td>0.0</td>\n      <td>0.0</td>\n      <td>0.0</td>\n      <td>0.0</td>\n      <td>0.0</td>\n      <td>0.0</td>\n      <td>1.0</td>\n    </tr>\n    <tr>\n      <th>29998</th>\n      <td>0.0</td>\n      <td>0.0</td>\n      <td>0.0</td>\n      <td>0.0</td>\n      <td>0.0</td>\n      <td>0.0</td>\n      <td>0.0</td>\n      <td>0.0</td>\n      <td>0.0</td>\n      <td>5.0</td>\n      <td>...</td>\n      <td>0.0</td>\n      <td>0.0</td>\n      <td>0.0</td>\n      <td>0.0</td>\n      <td>0.0</td>\n      <td>0.0</td>\n      <td>0.0</td>\n      <td>0.0</td>\n      <td>0.0</td>\n      <td>1.0</td>\n    </tr>\n    <tr>\n      <th>29999</th>\n      <td>0.0</td>\n      <td>0.0</td>\n      <td>0.0</td>\n      <td>0.0</td>\n      <td>0.0</td>\n      <td>0.0</td>\n      <td>0.0</td>\n      <td>0.0</td>\n      <td>0.0</td>\n      <td>0.0</td>\n      <td>...</td>\n      <td>54.0</td>\n      <td>50.0</td>\n      <td>5.0</td>\n      <td>0.0</td>\n      <td>1.0</td>\n      <td>0.0</td>\n      <td>0.0</td>\n      <td>0.0</td>\n      <td>0.0</td>\n      <td>1.0</td>\n    </tr>\n  </tbody>\n</table>\n<p>30000 rows × 785 columns</p>\n</div>"
     },
     "metadata": {},
     "execution_count": 11
    }
   ],
   "source": [
    "data_x = np.hstack((np.reshape(train_images,(num_images,-1)),np.ones((num_images,1))))  # incluyendo bias\n",
    "np.shape(data_x)\n",
    "pd.DataFrame(data_x)"
   ]
  },
  {
   "cell_type": "code",
   "execution_count": 12,
   "metadata": {},
   "outputs": [],
   "source": [
    "def softmax(tensor_logit):\n",
    "    return tf.exp(tensor_logit)/tf.reduce_sum(tf.exp(tensor_logit),axis=1, keepdims=True)"
   ]
  },
  {
   "cell_type": "code",
   "execution_count": 13,
   "metadata": {},
   "outputs": [],
   "source": [
    "lr = 0.01"
   ]
  },
  {
   "cell_type": "code",
   "execution_count": 14,
   "metadata": {},
   "outputs": [],
   "source": [
    "tf.reset_default_graph()\n",
    "g = tf.Graph()\n",
    "with g.as_default():\n",
    "    weights = tf.Variable(tf.zeros((image_size+1,num_labels)), dtype=tf.float32, name = \"weights\")   #matrix de 785x10\n",
    "    tensor_x = tf.placeholder(dtype=tf.float32,name=\"Images\")\n",
    "    tensor_y = tf.placeholder(dtype=tf.int32, name=\"Clases\")\n",
    "    tensor_lr = tf.placeholder(dtype=tf.float32,name=\"LR\")\n",
    "    with tf.name_scope(\"OHE_Y\"):\n",
    "        ohe_y = tf.reshape(tf.one_hot(tensor_y, num_labels),(num_images,-1))\n",
    "    with tf.name_scope(\"Logits\"):\n",
    "        logits = tf.linalg.matmul(tensor_x, weights, name=\"Logits\")\n",
    "    with tf.name_scope(\"Softmax\"):\n",
    "        s = softmax(logits)\n",
    "    with tf.name_scope(\"Accuracy\"):\n",
    "        y_hat = tf.argmax(s, axis=1, output_type=tf.int32)\n",
    "        accuracy = tf.reduce_sum(tf.cast(tf.equal(y_hat,tensor_y),tf.int32))/tf.shape(y_hat)[0]\n",
    "        accuracy_summary = tf.summary.scalar(\"Accuracy\",accuracy)\n",
    "    with tf.name_scope(\"Loss\"):\n",
    "        loss = -1/num_images*tf.reduce_mean(ohe_y*tf.math.log(s) + (1-ohe_y)*tf.math.log(1-s))\n",
    "        loss_summary = tf.summary.scalar(\"Loss\",loss)\n",
    "    with tf.name_scope(\"Gradient_Descent\"):\n",
    "        gradientes = tf.gradients(loss, weights)\n",
    "        update_weights = tf.assign(weights,weights - tensor_lr*gradientes[0])        \n",
    "\n"
   ]
  },
  {
   "cell_type": "code",
   "execution_count": 17,
   "metadata": {},
   "outputs": [],
   "source": [
    "def TrainingModel(dataX, dataY, epochs, batch_size, lr, normalization=False):\n",
    "    total_iteraciones = int(np.shape(dataX)[0]/batch_size)\n",
    "\n",
    "    tf.debugging.set_log_device_placement(True)\n",
    "    tf.reset_default_graph()\n",
    "    with tf.Session(graph=g) as session:\n",
    "        writer = tf.summary.FileWriter('./graphs/Parte1/Tarea3.1-RegresionLogisticaMulticlase_normalization='+str(normalization)+'_epochs='+str(epochs)+'_batchsize='+str(batch_size)+'_lr='+str(lr), session.graph)\n",
    "        init = tf.global_variables_initializer()\n",
    "        session.run(init)\n",
    "        j = 1\n",
    "        for epoch in range(epochs):\n",
    "            for i in range(total_iteraciones):\n",
    "                muestra_inicio = i * batch_size\n",
    "                muestra_fin = muestra_inicio + batch_size\n",
    "                x = np.array(dataX[muestra_inicio:muestra_fin])\n",
    "                y = np.array(dataY[muestra_inicio:muestra_fin])\n",
    "                feed_dict = {tensor_x:dataX, tensor_y:dataY, tensor_lr: lr}\n",
    "                parametros, accuracy, loss   = session.run([update_weights, accuracy_summary, loss_summary],feed_dict=feed_dict)\n",
    "                writer.add_summary(accuracy, j)\n",
    "                writer.add_summary(loss, j)\n",
    "                if (i%200==0):\n",
    "                    print(\"Epoch {} iteracion {}\".format(epoch,i))    \n",
    "                j += 1            \n",
    "            feed_dict = {tensor_x:dataX, tensor_y:dataY}\n",
    "            predicciones, best_params  = session.run([y_hat, weights],feed_dict=feed_dict)\n",
    "            \n",
    "        session.close()\n",
    "        return(predicciones, best_params)"
   ]
  },
  {
   "cell_type": "code",
   "execution_count": 53,
   "metadata": {
    "tags": []
   },
   "outputs": [
    {
     "output_type": "stream",
     "name": "stdout",
     "text": [
      "Device mapping:\n",
      "/job:localhost/replica:0/task:0/device:GPU:0 -> device: 0, name: NVIDIA GeForce RTX 2060, pci bus id: 0000:01:00.0, compute capability: 7.5\n",
      "\n",
      "Epoch 0 iteracion 0\n",
      "Epoch 0 iteracion 200\n",
      "Epoch 0 iteracion 400\n",
      "Epoch 0 iteracion 600\n",
      "Epoch 0 iteracion 800\n",
      "Epoch 1 iteracion 0\n",
      "Epoch 1 iteracion 200\n",
      "Epoch 1 iteracion 400\n",
      "Epoch 1 iteracion 600\n",
      "Epoch 1 iteracion 800\n",
      "Epoch 2 iteracion 0\n",
      "Epoch 2 iteracion 200\n",
      "Epoch 2 iteracion 400\n",
      "Epoch 2 iteracion 600\n",
      "Epoch 2 iteracion 800\n",
      "Epoch 3 iteracion 0\n",
      "Epoch 3 iteracion 200\n",
      "Epoch 3 iteracion 400\n",
      "Epoch 3 iteracion 600\n",
      "Epoch 3 iteracion 800\n",
      "Epoch 4 iteracion 0\n",
      "Epoch 4 iteracion 200\n",
      "Epoch 4 iteracion 400\n",
      "Epoch 4 iteracion 600\n",
      "Epoch 4 iteracion 800\n"
     ]
    }
   ],
   "source": [
    "preds, params = TrainingModel(data_x, train_labels, 5, 32, 0.2)"
   ]
  },
  {
   "cell_type": "code",
   "execution_count": 51,
   "metadata": {},
   "outputs": [],
   "source": [
    "results = pd.DataFrame(np.stack((preds, train_labels), axis=1))\n",
    "results.to_csv('results.csv')"
   ]
  },
  {
   "cell_type": "code",
   "execution_count": 40,
   "metadata": {},
   "outputs": [
    {
     "output_type": "execute_result",
     "data": {
      "text/plain": [
       "0.8894"
      ]
     },
     "metadata": {},
     "execution_count": 40
    }
   ],
   "source": [
    "np.sum(preds == train_labels)/train_labels.size"
   ]
  },
  {
   "cell_type": "code",
   "execution_count": null,
   "metadata": {},
   "outputs": [],
   "source": [
    "tf.shape()"
   ]
  },
  {
   "cell_type": "code",
   "execution_count": 34,
   "metadata": {},
   "outputs": [
    {
     "output_type": "execute_result",
     "data": {
      "text/plain": [
       "0.7933"
      ]
     },
     "metadata": {},
     "execution_count": 34
    }
   ],
   "source": []
  }
 ]
}