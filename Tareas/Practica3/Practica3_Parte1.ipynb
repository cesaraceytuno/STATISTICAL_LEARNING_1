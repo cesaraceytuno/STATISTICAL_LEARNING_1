{
 "metadata": {
  "language_info": {
   "codemirror_mode": {
    "name": "ipython",
    "version": 3
   },
   "file_extension": ".py",
   "mimetype": "text/x-python",
   "name": "python",
   "nbconvert_exporter": "python",
   "pygments_lexer": "ipython3",
   "version": "3.6.13"
  },
  "orig_nbformat": 2,
  "kernelspec": {
   "name": "python3",
   "display_name": "Python 3.6.13 64-bit ('tf-gpu': conda)"
  },
  "interpreter": {
   "hash": "0fe48540b924844261e3e812ebc1f04ba59a0bcb45a4d5a15acd82b1a1cd055a"
  }
 },
 "nbformat": 4,
 "nbformat_minor": 2,
 "cells": [
  {
   "cell_type": "code",
   "execution_count": 1,
   "metadata": {},
   "outputs": [],
   "source": [
    "import tensorflow as tf\n",
    "from tensorflow import keras\n",
    "import numpy as np\n",
    "import matplotlib.pyplot as plt\n",
    "import pandas as pd"
   ]
  },
  {
   "cell_type": "code",
   "execution_count": 2,
   "metadata": {},
   "outputs": [
    {
     "output_type": "stream",
     "name": "stdout",
     "text": [
      "WARNING:tensorflow:From C:\\Users\\cesar\\anaconda3\\envs\\tf-gpu\\lib\\site-packages\\tensorflow_core\\python\\compat\\v2_compat.py:88: disable_resource_variables (from tensorflow.python.ops.variable_scope) is deprecated and will be removed in a future version.\nInstructions for updating:\nnon-resource variables are not supported in the long term\n"
     ]
    }
   ],
   "source": [
    "import tensorflow as tf\n",
    "if tf.__version__.startswith(\"2.\"):\n",
    "  import tensorflow.compat.v1 as tf\n",
    "  tf.compat.v1.disable_v2_behavior()\n",
    "  tf.compat.v1.disable_eager_execution()"
   ]
  },
  {
   "cell_type": "code",
   "execution_count": 3,
   "metadata": {},
   "outputs": [
    {
     "output_type": "stream",
     "name": "stdout",
     "text": [
      "[name: \"/device:CPU:0\"\ndevice_type: \"CPU\"\nmemory_limit: 268435456\nlocality {\n}\nincarnation: 8910487547900631183\n, name: \"/device:GPU:0\"\ndevice_type: \"GPU\"\nmemory_limit: 4963368960\nlocality {\n  bus_id: 1\n  links {\n  }\n}\nincarnation: 4628414262737983517\nphysical_device_desc: \"device: 0, name: NVIDIA GeForce RTX 2060, pci bus id: 0000:01:00.0, compute capability: 7.5\"\n]\n"
     ]
    }
   ],
   "source": [
    "from tensorflow.python.client import device_lib\n",
    "print(device_lib.list_local_devices())\n",
    "\n"
   ]
  },
  {
   "cell_type": "code",
   "execution_count": 4,
   "metadata": {},
   "outputs": [],
   "source": [
    "fashion_mnist = keras.datasets.fashion_mnist\n",
    "(train_images, train_labels), (test_images, test_labels) = fashion_mnist.load_data()"
   ]
  },
  {
   "source": [
    "## Filtro de Imagenes (Incluyendo unicamente primeras 3 clases)"
   ],
   "cell_type": "markdown",
   "metadata": {}
  },
  {
   "cell_type": "code",
   "execution_count": 5,
   "metadata": {},
   "outputs": [],
   "source": [
    "filter_train_labels = train_labels < 3\n",
    "filter_test_labels = test_labels < 3\n",
    "train_images = train_images[filter_train_labels]\n",
    "train_labels = train_labels[filter_train_labels]\n",
    "test_images = test_images[filter_test_labels]\n",
    "test_labels = test_labels[filter_test_labels]"
   ]
  },
  {
   "cell_type": "code",
   "execution_count": 6,
   "metadata": {},
   "outputs": [
    {
     "output_type": "execute_result",
     "data": {
      "text/plain": [
       "<matplotlib.colorbar.Colorbar at 0x1609b395ac8>"
      ]
     },
     "metadata": {},
     "execution_count": 6
    },
    {
     "output_type": "display_data",
     "data": {
      "text/plain": "<Figure size 432x288 with 2 Axes>",
      "image/svg+xml": "<?xml version=\"1.0\" encoding=\"utf-8\" standalone=\"no\"?>\r\n<!DOCTYPE svg PUBLIC \"-//W3C//DTD SVG 1.1//EN\"\r\n  \"http://www.w3.org/Graphics/SVG/1.1/DTD/svg11.dtd\">\r\n<!-- Created with matplotlib (https://matplotlib.org/) -->\r\n<svg height=\"248.518125pt\" version=\"1.1\" viewBox=\"0 0 305.2645 248.518125\" width=\"305.2645pt\" xmlns=\"http://www.w3.org/2000/svg\" xmlns:xlink=\"http://www.w3.org/1999/xlink\">\r\n <metadata>\r\n  <rdf:RDF xmlns:cc=\"http://creativecommons.org/ns#\" xmlns:dc=\"http://purl.org/dc/elements/1.1/\" xmlns:rdf=\"http://www.w3.org/1999/02/22-rdf-syntax-ns#\">\r\n   <cc:Work>\r\n    <dc:type rdf:resource=\"http://purl.org/dc/dcmitype/StillImage\"/>\r\n    <dc:date>2021-06-19T21:46:11.234797</dc:date>\r\n    <dc:format>image/svg+xml</dc:format>\r\n    <dc:creator>\r\n     <cc:Agent>\r\n      <dc:title>Matplotlib v3.3.4, https://matplotlib.org/</dc:title>\r\n     </cc:Agent>\r\n    </dc:creator>\r\n   </cc:Work>\r\n  </rdf:RDF>\r\n </metadata>\r\n <defs>\r\n  <style type=\"text/css\">*{stroke-linecap:butt;stroke-linejoin:round;}</style>\r\n </defs>\r\n <g id=\"figure_1\">\r\n  <g id=\"patch_1\">\r\n   <path d=\"M 0 248.518125 \r\nL 305.2645 248.518125 \r\nL 305.2645 0 \r\nL 0 0 \r\nz\r\n\" style=\"fill:none;\"/>\r\n  </g>\r\n  <g id=\"axes_1\">\r\n   <g id=\"patch_2\">\r\n    <path d=\"M 26.925 224.64 \r\nL 244.365 224.64 \r\nL 244.365 7.2 \r\nL 26.925 7.2 \r\nz\r\n\" style=\"fill:#ffffff;\"/>\r\n   </g>\r\n   <g clip-path=\"url(#pef1df47216)\">\r\n    <image height=\"218\" id=\"imaged2418b88f7\" transform=\"scale(1 -1)translate(0 -218)\" width=\"218\" x=\"26.925\" xlink:href=\"data:image/png;base64,\r\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\" y=\"-6.64\"/>\r\n   </g>\r\n   <g id=\"matplotlib.axis_1\">\r\n    <g id=\"xtick_1\">\r\n     <g id=\"line2d_1\">\r\n      <defs>\r\n       <path d=\"M 0 0 \r\nL 0 3.5 \r\n\" id=\"mfacb2ca13d\" style=\"stroke:#000000;stroke-width:0.8;\"/>\r\n      </defs>\r\n      <g>\r\n       <use style=\"stroke:#000000;stroke-width:0.8;\" x=\"30.807857\" xlink:href=\"#mfacb2ca13d\" y=\"224.64\"/>\r\n      </g>\r\n     </g>\r\n     <g id=\"text_1\">\r\n      <!-- 0 -->\r\n      <g transform=\"translate(27.626607 239.238437)scale(0.1 -0.1)\">\r\n       <defs>\r\n        <path d=\"M 31.78125 66.40625 \r\nQ 24.171875 66.40625 20.328125 58.90625 \r\nQ 16.5 51.421875 16.5 36.375 \r\nQ 16.5 21.390625 20.328125 13.890625 \r\nQ 24.171875 6.390625 31.78125 6.390625 \r\nQ 39.453125 6.390625 43.28125 13.890625 \r\nQ 47.125 21.390625 47.125 36.375 \r\nQ 47.125 51.421875 43.28125 58.90625 \r\nQ 39.453125 66.40625 31.78125 66.40625 \r\nz\r\nM 31.78125 74.21875 \r\nQ 44.046875 74.21875 50.515625 64.515625 \r\nQ 56.984375 54.828125 56.984375 36.375 \r\nQ 56.984375 17.96875 50.515625 8.265625 \r\nQ 44.046875 -1.421875 31.78125 -1.421875 \r\nQ 19.53125 -1.421875 13.0625 8.265625 \r\nQ 6.59375 17.96875 6.59375 36.375 \r\nQ 6.59375 54.828125 13.0625 64.515625 \r\nQ 19.53125 74.21875 31.78125 74.21875 \r\nz\r\n\" id=\"DejaVuSans-48\"/>\r\n       </defs>\r\n       <use xlink:href=\"#DejaVuSans-48\"/>\r\n      </g>\r\n     </g>\r\n    </g>\r\n    <g id=\"xtick_2\">\r\n     <g id=\"line2d_2\">\r\n      <g>\r\n       <use style=\"stroke:#000000;stroke-width:0.8;\" x=\"69.636429\" xlink:href=\"#mfacb2ca13d\" y=\"224.64\"/>\r\n      </g>\r\n     </g>\r\n     <g id=\"text_2\">\r\n      <!-- 5 -->\r\n      <g transform=\"translate(66.455179 239.238437)scale(0.1 -0.1)\">\r\n       <defs>\r\n        <path d=\"M 10.796875 72.90625 \r\nL 49.515625 72.90625 \r\nL 49.515625 64.59375 \r\nL 19.828125 64.59375 \r\nL 19.828125 46.734375 \r\nQ 21.96875 47.46875 24.109375 47.828125 \r\nQ 26.265625 48.1875 28.421875 48.1875 \r\nQ 40.625 48.1875 47.75 41.5 \r\nQ 54.890625 34.8125 54.890625 23.390625 \r\nQ 54.890625 11.625 47.5625 5.09375 \r\nQ 40.234375 -1.421875 26.90625 -1.421875 \r\nQ 22.3125 -1.421875 17.546875 -0.640625 \r\nQ 12.796875 0.140625 7.71875 1.703125 \r\nL 7.71875 11.625 \r\nQ 12.109375 9.234375 16.796875 8.0625 \r\nQ 21.484375 6.890625 26.703125 6.890625 \r\nQ 35.15625 6.890625 40.078125 11.328125 \r\nQ 45.015625 15.765625 45.015625 23.390625 \r\nQ 45.015625 31 40.078125 35.4375 \r\nQ 35.15625 39.890625 26.703125 39.890625 \r\nQ 22.75 39.890625 18.8125 39.015625 \r\nQ 14.890625 38.140625 10.796875 36.28125 \r\nz\r\n\" id=\"DejaVuSans-53\"/>\r\n       </defs>\r\n       <use xlink:href=\"#DejaVuSans-53\"/>\r\n      </g>\r\n     </g>\r\n    </g>\r\n    <g id=\"xtick_3\">\r\n     <g id=\"line2d_3\">\r\n      <g>\r\n       <use style=\"stroke:#000000;stroke-width:0.8;\" x=\"108.465\" xlink:href=\"#mfacb2ca13d\" y=\"224.64\"/>\r\n      </g>\r\n     </g>\r\n     <g id=\"text_3\">\r\n      <!-- 10 -->\r\n      <g transform=\"translate(102.1025 239.238437)scale(0.1 -0.1)\">\r\n       <defs>\r\n        <path d=\"M 12.40625 8.296875 \r\nL 28.515625 8.296875 \r\nL 28.515625 63.921875 \r\nL 10.984375 60.40625 \r\nL 10.984375 69.390625 \r\nL 28.421875 72.90625 \r\nL 38.28125 72.90625 \r\nL 38.28125 8.296875 \r\nL 54.390625 8.296875 \r\nL 54.390625 0 \r\nL 12.40625 0 \r\nz\r\n\" id=\"DejaVuSans-49\"/>\r\n       </defs>\r\n       <use xlink:href=\"#DejaVuSans-49\"/>\r\n       <use x=\"63.623047\" xlink:href=\"#DejaVuSans-48\"/>\r\n      </g>\r\n     </g>\r\n    </g>\r\n    <g id=\"xtick_4\">\r\n     <g id=\"line2d_4\">\r\n      <g>\r\n       <use style=\"stroke:#000000;stroke-width:0.8;\" x=\"147.293571\" xlink:href=\"#mfacb2ca13d\" y=\"224.64\"/>\r\n      </g>\r\n     </g>\r\n     <g id=\"text_4\">\r\n      <!-- 15 -->\r\n      <g transform=\"translate(140.931071 239.238437)scale(0.1 -0.1)\">\r\n       <use xlink:href=\"#DejaVuSans-49\"/>\r\n       <use x=\"63.623047\" xlink:href=\"#DejaVuSans-53\"/>\r\n      </g>\r\n     </g>\r\n    </g>\r\n    <g id=\"xtick_5\">\r\n     <g id=\"line2d_5\">\r\n      <g>\r\n       <use style=\"stroke:#000000;stroke-width:0.8;\" x=\"186.122143\" xlink:href=\"#mfacb2ca13d\" y=\"224.64\"/>\r\n      </g>\r\n     </g>\r\n     <g id=\"text_5\">\r\n      <!-- 20 -->\r\n      <g transform=\"translate(179.759643 239.238437)scale(0.1 -0.1)\">\r\n       <defs>\r\n        <path d=\"M 19.1875 8.296875 \r\nL 53.609375 8.296875 \r\nL 53.609375 0 \r\nL 7.328125 0 \r\nL 7.328125 8.296875 \r\nQ 12.9375 14.109375 22.625 23.890625 \r\nQ 32.328125 33.6875 34.8125 36.53125 \r\nQ 39.546875 41.84375 41.421875 45.53125 \r\nQ 43.3125 49.21875 43.3125 52.78125 \r\nQ 43.3125 58.59375 39.234375 62.25 \r\nQ 35.15625 65.921875 28.609375 65.921875 \r\nQ 23.96875 65.921875 18.8125 64.3125 \r\nQ 13.671875 62.703125 7.8125 59.421875 \r\nL 7.8125 69.390625 \r\nQ 13.765625 71.78125 18.9375 73 \r\nQ 24.125 74.21875 28.421875 74.21875 \r\nQ 39.75 74.21875 46.484375 68.546875 \r\nQ 53.21875 62.890625 53.21875 53.421875 \r\nQ 53.21875 48.921875 51.53125 44.890625 \r\nQ 49.859375 40.875 45.40625 35.40625 \r\nQ 44.1875 33.984375 37.640625 27.21875 \r\nQ 31.109375 20.453125 19.1875 8.296875 \r\nz\r\n\" id=\"DejaVuSans-50\"/>\r\n       </defs>\r\n       <use xlink:href=\"#DejaVuSans-50\"/>\r\n       <use x=\"63.623047\" xlink:href=\"#DejaVuSans-48\"/>\r\n      </g>\r\n     </g>\r\n    </g>\r\n    <g id=\"xtick_6\">\r\n     <g id=\"line2d_6\">\r\n      <g>\r\n       <use style=\"stroke:#000000;stroke-width:0.8;\" x=\"224.950714\" xlink:href=\"#mfacb2ca13d\" y=\"224.64\"/>\r\n      </g>\r\n     </g>\r\n     <g id=\"text_6\">\r\n      <!-- 25 -->\r\n      <g transform=\"translate(218.588214 239.238437)scale(0.1 -0.1)\">\r\n       <use xlink:href=\"#DejaVuSans-50\"/>\r\n       <use x=\"63.623047\" xlink:href=\"#DejaVuSans-53\"/>\r\n      </g>\r\n     </g>\r\n    </g>\r\n   </g>\r\n   <g id=\"matplotlib.axis_2\">\r\n    <g id=\"ytick_1\">\r\n     <g id=\"line2d_7\">\r\n      <defs>\r\n       <path d=\"M 0 0 \r\nL -3.5 0 \r\n\" id=\"mfdeebc6f88\" style=\"stroke:#000000;stroke-width:0.8;\"/>\r\n      </defs>\r\n      <g>\r\n       <use style=\"stroke:#000000;stroke-width:0.8;\" x=\"26.925\" xlink:href=\"#mfdeebc6f88\" y=\"11.082857\"/>\r\n      </g>\r\n     </g>\r\n     <g id=\"text_7\">\r\n      <!-- 0 -->\r\n      <g transform=\"translate(13.5625 14.882076)scale(0.1 -0.1)\">\r\n       <use xlink:href=\"#DejaVuSans-48\"/>\r\n      </g>\r\n     </g>\r\n    </g>\r\n    <g id=\"ytick_2\">\r\n     <g id=\"line2d_8\">\r\n      <g>\r\n       <use style=\"stroke:#000000;stroke-width:0.8;\" x=\"26.925\" xlink:href=\"#mfdeebc6f88\" y=\"49.911429\"/>\r\n      </g>\r\n     </g>\r\n     <g id=\"text_8\">\r\n      <!-- 5 -->\r\n      <g transform=\"translate(13.5625 53.710647)scale(0.1 -0.1)\">\r\n       <use xlink:href=\"#DejaVuSans-53\"/>\r\n      </g>\r\n     </g>\r\n    </g>\r\n    <g id=\"ytick_3\">\r\n     <g id=\"line2d_9\">\r\n      <g>\r\n       <use style=\"stroke:#000000;stroke-width:0.8;\" x=\"26.925\" xlink:href=\"#mfdeebc6f88\" y=\"88.74\"/>\r\n      </g>\r\n     </g>\r\n     <g id=\"text_9\">\r\n      <!-- 10 -->\r\n      <g transform=\"translate(7.2 92.539219)scale(0.1 -0.1)\">\r\n       <use xlink:href=\"#DejaVuSans-49\"/>\r\n       <use x=\"63.623047\" xlink:href=\"#DejaVuSans-48\"/>\r\n      </g>\r\n     </g>\r\n    </g>\r\n    <g id=\"ytick_4\">\r\n     <g id=\"line2d_10\">\r\n      <g>\r\n       <use style=\"stroke:#000000;stroke-width:0.8;\" x=\"26.925\" xlink:href=\"#mfdeebc6f88\" y=\"127.568571\"/>\r\n      </g>\r\n     </g>\r\n     <g id=\"text_10\">\r\n      <!-- 15 -->\r\n      <g transform=\"translate(7.2 131.36779)scale(0.1 -0.1)\">\r\n       <use xlink:href=\"#DejaVuSans-49\"/>\r\n       <use x=\"63.623047\" xlink:href=\"#DejaVuSans-53\"/>\r\n      </g>\r\n     </g>\r\n    </g>\r\n    <g id=\"ytick_5\">\r\n     <g id=\"line2d_11\">\r\n      <g>\r\n       <use style=\"stroke:#000000;stroke-width:0.8;\" x=\"26.925\" xlink:href=\"#mfdeebc6f88\" y=\"166.397143\"/>\r\n      </g>\r\n     </g>\r\n     <g id=\"text_11\">\r\n      <!-- 20 -->\r\n      <g transform=\"translate(7.2 170.196362)scale(0.1 -0.1)\">\r\n       <use xlink:href=\"#DejaVuSans-50\"/>\r\n       <use x=\"63.623047\" xlink:href=\"#DejaVuSans-48\"/>\r\n      </g>\r\n     </g>\r\n    </g>\r\n    <g id=\"ytick_6\">\r\n     <g id=\"line2d_12\">\r\n      <g>\r\n       <use style=\"stroke:#000000;stroke-width:0.8;\" x=\"26.925\" xlink:href=\"#mfdeebc6f88\" y=\"205.225714\"/>\r\n      </g>\r\n     </g>\r\n     <g id=\"text_12\">\r\n      <!-- 25 -->\r\n      <g transform=\"translate(7.2 209.024933)scale(0.1 -0.1)\">\r\n       <use xlink:href=\"#DejaVuSans-50\"/>\r\n       <use x=\"63.623047\" xlink:href=\"#DejaVuSans-53\"/>\r\n      </g>\r\n     </g>\r\n    </g>\r\n   </g>\r\n   <g id=\"patch_3\">\r\n    <path d=\"M 26.925 224.64 \r\nL 26.925 7.2 \r\n\" style=\"fill:none;stroke:#000000;stroke-linecap:square;stroke-linejoin:miter;stroke-width:0.8;\"/>\r\n   </g>\r\n   <g id=\"patch_4\">\r\n    <path d=\"M 244.365 224.64 \r\nL 244.365 7.2 \r\n\" style=\"fill:none;stroke:#000000;stroke-linecap:square;stroke-linejoin:miter;stroke-width:0.8;\"/>\r\n   </g>\r\n   <g id=\"patch_5\">\r\n    <path d=\"M 26.925 224.64 \r\nL 244.365 224.64 \r\n\" style=\"fill:none;stroke:#000000;stroke-linecap:square;stroke-linejoin:miter;stroke-width:0.8;\"/>\r\n   </g>\r\n   <g id=\"patch_6\">\r\n    <path d=\"M 26.925 7.2 \r\nL 244.365 7.2 \r\n\" style=\"fill:none;stroke:#000000;stroke-linecap:square;stroke-linejoin:miter;stroke-width:0.8;\"/>\r\n   </g>\r\n  </g>\r\n  <g id=\"axes_2\">\r\n   <g id=\"patch_7\">\r\n    <path clip-path=\"url(#p5d24825f50)\" d=\"M 261.105 224.64 \r\nL 261.105 223.790625 \r\nL 261.105 8.049375 \r\nL 261.105 7.2 \r\nL 271.977 7.2 \r\nL 271.977 8.049375 \r\nL 271.977 223.790625 \r\nL 271.977 224.64 \r\nz\r\n\" style=\"fill:#ffffff;stroke:#ffffff;stroke-linejoin:miter;stroke-width:0.01;\"/>\r\n   </g>\r\n   <image height=\"217\" id=\"image8edcb56352\" transform=\"scale(1 -1)translate(0 -217)\" width=\"11\" x=\"261\" xlink:href=\"data:image/png;base64,\r\niVBORw0KGgoAAAANSUhEUgAAAAsAAADZCAYAAAD2WsoCAAAAgklEQVR4nO3QMQrAMBADwcj4/19O2iuNIGCWvXqL0yTJ+xzeTnLa/hmvtW5445JYjRnjNfAD1ahjvAZ+oBozxg9Uo47xGviBatQxXgM/UI06xmvgB6oxY/xANeoYr4EfqEYd4zXwA9WoY7wGfqAadYzXwA9UY8b4gWrUMV4DP5Cu8QHdRgdeRvf/PQAAAABJRU5ErkJggg==\" y=\"-7\"/>\r\n   <g id=\"matplotlib.axis_3\"/>\r\n   <g id=\"matplotlib.axis_4\">\r\n    <g id=\"ytick_7\">\r\n     <g id=\"line2d_13\">\r\n      <defs>\r\n       <path d=\"M 0 0 \r\nL 3.5 0 \r\n\" id=\"m41ff658199\" style=\"stroke:#000000;stroke-width:0.8;\"/>\r\n      </defs>\r\n      <g>\r\n       <use style=\"stroke:#000000;stroke-width:0.8;\" x=\"271.977\" xlink:href=\"#m41ff658199\" y=\"224.64\"/>\r\n      </g>\r\n     </g>\r\n     <g id=\"text_13\">\r\n      <!-- 0 -->\r\n      <g transform=\"translate(278.977 228.439219)scale(0.1 -0.1)\">\r\n       <use xlink:href=\"#DejaVuSans-48\"/>\r\n      </g>\r\n     </g>\r\n    </g>\r\n    <g id=\"ytick_8\">\r\n     <g id=\"line2d_14\">\r\n      <g>\r\n       <use style=\"stroke:#000000;stroke-width:0.8;\" x=\"271.977\" xlink:href=\"#m41ff658199\" y=\"182.004706\"/>\r\n      </g>\r\n     </g>\r\n     <g id=\"text_14\">\r\n      <!-- 50 -->\r\n      <g transform=\"translate(278.977 185.803925)scale(0.1 -0.1)\">\r\n       <use xlink:href=\"#DejaVuSans-53\"/>\r\n       <use x=\"63.623047\" xlink:href=\"#DejaVuSans-48\"/>\r\n      </g>\r\n     </g>\r\n    </g>\r\n    <g id=\"ytick_9\">\r\n     <g id=\"line2d_15\">\r\n      <g>\r\n       <use style=\"stroke:#000000;stroke-width:0.8;\" x=\"271.977\" xlink:href=\"#m41ff658199\" y=\"139.369412\"/>\r\n      </g>\r\n     </g>\r\n     <g id=\"text_15\">\r\n      <!-- 100 -->\r\n      <g transform=\"translate(278.977 143.168631)scale(0.1 -0.1)\">\r\n       <use xlink:href=\"#DejaVuSans-49\"/>\r\n       <use x=\"63.623047\" xlink:href=\"#DejaVuSans-48\"/>\r\n       <use x=\"127.246094\" xlink:href=\"#DejaVuSans-48\"/>\r\n      </g>\r\n     </g>\r\n    </g>\r\n    <g id=\"ytick_10\">\r\n     <g id=\"line2d_16\">\r\n      <g>\r\n       <use style=\"stroke:#000000;stroke-width:0.8;\" x=\"271.977\" xlink:href=\"#m41ff658199\" y=\"96.734118\"/>\r\n      </g>\r\n     </g>\r\n     <g id=\"text_16\">\r\n      <!-- 150 -->\r\n      <g transform=\"translate(278.977 100.533336)scale(0.1 -0.1)\">\r\n       <use xlink:href=\"#DejaVuSans-49\"/>\r\n       <use x=\"63.623047\" xlink:href=\"#DejaVuSans-53\"/>\r\n       <use x=\"127.246094\" xlink:href=\"#DejaVuSans-48\"/>\r\n      </g>\r\n     </g>\r\n    </g>\r\n    <g id=\"ytick_11\">\r\n     <g id=\"line2d_17\">\r\n      <g>\r\n       <use style=\"stroke:#000000;stroke-width:0.8;\" x=\"271.977\" xlink:href=\"#m41ff658199\" y=\"54.098824\"/>\r\n      </g>\r\n     </g>\r\n     <g id=\"text_17\">\r\n      <!-- 200 -->\r\n      <g transform=\"translate(278.977 57.898042)scale(0.1 -0.1)\">\r\n       <use xlink:href=\"#DejaVuSans-50\"/>\r\n       <use x=\"63.623047\" xlink:href=\"#DejaVuSans-48\"/>\r\n       <use x=\"127.246094\" xlink:href=\"#DejaVuSans-48\"/>\r\n      </g>\r\n     </g>\r\n    </g>\r\n    <g id=\"ytick_12\">\r\n     <g id=\"line2d_18\">\r\n      <g>\r\n       <use style=\"stroke:#000000;stroke-width:0.8;\" x=\"271.977\" xlink:href=\"#m41ff658199\" y=\"11.463529\"/>\r\n      </g>\r\n     </g>\r\n     <g id=\"text_18\">\r\n      <!-- 250 -->\r\n      <g transform=\"translate(278.977 15.262748)scale(0.1 -0.1)\">\r\n       <use xlink:href=\"#DejaVuSans-50\"/>\r\n       <use x=\"63.623047\" xlink:href=\"#DejaVuSans-53\"/>\r\n       <use x=\"127.246094\" xlink:href=\"#DejaVuSans-48\"/>\r\n      </g>\r\n     </g>\r\n    </g>\r\n   </g>\r\n   <g id=\"patch_8\">\r\n    <path d=\"M 261.105 224.64 \r\nL 261.105 223.790625 \r\nL 261.105 8.049375 \r\nL 261.105 7.2 \r\nL 271.977 7.2 \r\nL 271.977 8.049375 \r\nL 271.977 223.790625 \r\nL 271.977 224.64 \r\nz\r\n\" style=\"fill:none;stroke:#000000;stroke-linejoin:miter;stroke-width:0.8;\"/>\r\n   </g>\r\n  </g>\r\n </g>\r\n <defs>\r\n  <clipPath id=\"pef1df47216\">\r\n   <rect height=\"217.44\" width=\"217.44\" x=\"26.925\" y=\"7.2\"/>\r\n  </clipPath>\r\n  <clipPath id=\"p5d24825f50\">\r\n   <rect height=\"217.44\" width=\"10.872\" x=\"261.105\" y=\"7.2\"/>\r\n  </clipPath>\r\n </defs>\r\n</svg>\r\n",
      "image/png": "[encoded data removed]"
     },
     "metadata": {
      "needs_background": "light"
     }
    }
   ],
   "source": [
    "plt.imshow(train_images[9], cmap = 'gray')\n",
    "plt.colorbar()"
   ]
  },
  {
   "cell_type": "code",
   "execution_count": 7,
   "metadata": {},
   "outputs": [
    {
     "output_type": "execute_result",
     "data": {
      "text/plain": [
       "(18000, 3000)"
      ]
     },
     "metadata": {},
     "execution_count": 7
    }
   ],
   "source": [
    "num_images, width, height = np.shape(train_images)\n",
    "image_size = width * height\n",
    "num_images, image_size\n",
    "num_images_test = np.shape(test_images)[0]\n",
    "num_images, num_images_test"
   ]
  },
  {
   "cell_type": "code",
   "execution_count": 8,
   "metadata": {},
   "outputs": [],
   "source": [
    "dict_labels = {\n",
    "    0: \"T-shirt/top\",\n",
    "    1: \"Trouser\",\n",
    "    2: \"Pullover\",\n",
    "    3: \"Dress\",\n",
    "    4: \"Coat\",\n",
    "    5: \"Sandal\",\n",
    "    6: \"Shirt\",\n",
    "    7: \"Sneaker\",\n",
    "    8: \"Bag\",\n",
    "    9: \"Ankle boot\"\n",
    "}\n",
    "num_labels = len(dict_labels)"
   ]
  },
  {
   "source": [
    "### Datos sin Normalizacion"
   ],
   "cell_type": "markdown",
   "metadata": {}
  },
  {
   "cell_type": "code",
   "execution_count": 9,
   "metadata": {},
   "outputs": [
    {
     "output_type": "execute_result",
     "data": {
      "text/plain": [
       "       0    1    2    3    4    5    6    7    8     9    ...    775    776  \\\n",
       "0      0.0  0.0  0.0  0.0  0.0  1.0  0.0  0.0  0.0   0.0  ...  114.0  130.0   \n",
       "1      0.0  0.0  0.0  0.0  0.0  0.0  0.0  0.0  0.0  22.0  ...    0.0    1.0   \n",
       "2      0.0  0.0  0.0  0.0  0.0  0.0  0.0  0.0  0.0   0.0  ...    0.0    0.0   \n",
       "3      0.0  0.0  0.0  0.0  1.0  0.0  0.0  0.0  0.0  22.0  ...    0.0    0.0   \n",
       "4      0.0  0.0  0.0  0.0  0.0  1.0  1.0  0.0  0.0   0.0  ...    0.0    3.0   \n",
       "...    ...  ...  ...  ...  ...  ...  ...  ...  ...   ...  ...    ...    ...   \n",
       "17995  0.0  0.0  0.0  0.0  0.0  0.0  0.0  0.0  0.0   0.0  ...    0.0    0.0   \n",
       "17996  0.0  0.0  0.0  0.0  0.0  0.0  0.0  0.0  0.0   0.0  ...    0.0    0.0   \n",
       "17997  0.0  0.0  0.0  0.0  0.0  0.0  0.0  0.0  0.0   0.0  ...    0.0  128.0   \n",
       "17998  0.0  0.0  0.0  0.0  0.0  0.0  0.0  0.0  0.0   0.0  ...    0.0    0.0   \n",
       "17999  0.0  0.0  0.0  0.0  0.0  0.0  0.0  0.0  0.0   0.0  ...   54.0   50.0   \n",
       "\n",
       "         777    778    779    780   781  782  783  784  \n",
       "0       76.0    0.0    0.0    0.0   0.0  0.0  0.0  1.0  \n",
       "1        0.0    0.0    0.0    0.0   0.0  0.0  0.0  1.0  \n",
       "2        0.0    0.0    0.0    0.0   0.0  0.0  0.0  1.0  \n",
       "3        0.0  133.0  167.0   73.0   0.0  0.0  0.0  1.0  \n",
       "4        0.0   82.0  237.0  231.0  70.0  0.0  0.0  1.0  \n",
       "...      ...    ...    ...    ...   ...  ...  ...  ...  \n",
       "17995    0.0    0.0    0.0    0.0   0.0  0.0  0.0  1.0  \n",
       "17996    0.0    0.0    0.0    0.0   0.0  0.0  0.0  1.0  \n",
       "17997  163.0   62.0    0.0    0.0   0.0  0.0  0.0  1.0  \n",
       "17998    0.0    0.0    0.0    0.0   0.0  0.0  0.0  1.0  \n",
       "17999    5.0    0.0    1.0    0.0   0.0  0.0  0.0  1.0  \n",
       "\n",
       "[18000 rows x 785 columns]"
      ],
      "text/html": "<div>\n<style scoped>\n    .dataframe tbody tr th:only-of-type {\n        vertical-align: middle;\n    }\n\n    .dataframe tbody tr th {\n        vertical-align: top;\n    }\n\n    .dataframe thead th {\n        text-align: right;\n    }\n</style>\n<table border=\"1\" class=\"dataframe\">\n  <thead>\n    <tr style=\"text-align: right;\">\n      <th></th>\n      <th>0</th>\n      <th>1</th>\n      <th>2</th>\n      <th>3</th>\n      <th>4</th>\n      <th>5</th>\n      <th>6</th>\n      <th>7</th>\n      <th>8</th>\n      <th>9</th>\n      <th>...</th>\n      <th>775</th>\n      <th>776</th>\n      <th>777</th>\n      <th>778</th>\n      <th>779</th>\n      <th>780</th>\n      <th>781</th>\n      <th>782</th>\n      <th>783</th>\n      <th>784</th>\n    </tr>\n  </thead>\n  <tbody>\n    <tr>\n      <th>0</th>\n      <td>0.0</td>\n      <td>0.0</td>\n      <td>0.0</td>\n      <td>0.0</td>\n      <td>0.0</td>\n      <td>1.0</td>\n      <td>0.0</td>\n      <td>0.0</td>\n      <td>0.0</td>\n      <td>0.0</td>\n      <td>...</td>\n      <td>114.0</td>\n      <td>130.0</td>\n      <td>76.0</td>\n      <td>0.0</td>\n      <td>0.0</td>\n      <td>0.0</td>\n      <td>0.0</td>\n      <td>0.0</td>\n      <td>0.0</td>\n      <td>1.0</td>\n    </tr>\n    <tr>\n      <th>1</th>\n      <td>0.0</td>\n      <td>0.0</td>\n      <td>0.0</td>\n      <td>0.0</td>\n      <td>0.0</td>\n      <td>0.0</td>\n      <td>0.0</td>\n      <td>0.0</td>\n      <td>0.0</td>\n      <td>22.0</td>\n      <td>...</td>\n      <td>0.0</td>\n      <td>1.0</td>\n      <td>0.0</td>\n      <td>0.0</td>\n      <td>0.0</td>\n      <td>0.0</td>\n      <td>0.0</td>\n      <td>0.0</td>\n      <td>0.0</td>\n      <td>1.0</td>\n    </tr>\n    <tr>\n      <th>2</th>\n      <td>0.0</td>\n      <td>0.0</td>\n      <td>0.0</td>\n      <td>0.0</td>\n      <td>0.0</td>\n      <td>0.0</td>\n      <td>0.0</td>\n      <td>0.0</td>\n      <td>0.0</td>\n      <td>0.0</td>\n      <td>...</td>\n      <td>0.0</td>\n      <td>0.0</td>\n      <td>0.0</td>\n      <td>0.0</td>\n      <td>0.0</td>\n      <td>0.0</td>\n      <td>0.0</td>\n      <td>0.0</td>\n      <td>0.0</td>\n      <td>1.0</td>\n    </tr>\n    <tr>\n      <th>3</th>\n      <td>0.0</td>\n      <td>0.0</td>\n      <td>0.0</td>\n      <td>0.0</td>\n      <td>1.0</td>\n      <td>0.0</td>\n      <td>0.0</td>\n      <td>0.0</td>\n      <td>0.0</td>\n      <td>22.0</td>\n      <td>...</td>\n      <td>0.0</td>\n      <td>0.0</td>\n      <td>0.0</td>\n      <td>133.0</td>\n      <td>167.0</td>\n      <td>73.0</td>\n      <td>0.0</td>\n      <td>0.0</td>\n      <td>0.0</td>\n      <td>1.0</td>\n    </tr>\n    <tr>\n      <th>4</th>\n      <td>0.0</td>\n      <td>0.0</td>\n      <td>0.0</td>\n      <td>0.0</td>\n      <td>0.0</td>\n      <td>1.0</td>\n      <td>1.0</td>\n      <td>0.0</td>\n      <td>0.0</td>\n      <td>0.0</td>\n      <td>...</td>\n      <td>0.0</td>\n      <td>3.0</td>\n      <td>0.0</td>\n      <td>82.0</td>\n      <td>237.0</td>\n      <td>231.0</td>\n      <td>70.0</td>\n      <td>0.0</td>\n      <td>0.0</td>\n      <td>1.0</td>\n    </tr>\n    <tr>\n      <th>...</th>\n      <td>...</td>\n      <td>...</td>\n      <td>...</td>\n      <td>...</td>\n      <td>...</td>\n      <td>...</td>\n      <td>...</td>\n      <td>...</td>\n      <td>...</td>\n      <td>...</td>\n      <td>...</td>\n      <td>...</td>\n      <td>...</td>\n      <td>...</td>\n      <td>...</td>\n      <td>...</td>\n      <td>...</td>\n      <td>...</td>\n      <td>...</td>\n      <td>...</td>\n      <td>...</td>\n    </tr>\n    <tr>\n      <th>17995</th>\n      <td>0.0</td>\n      <td>0.0</td>\n      <td>0.0</td>\n      <td>0.0</td>\n      <td>0.0</td>\n      <td>0.0</td>\n      <td>0.0</td>\n      <td>0.0</td>\n      <td>0.0</td>\n      <td>0.0</td>\n      <td>...</td>\n      <td>0.0</td>\n      <td>0.0</td>\n      <td>0.0</td>\n      <td>0.0</td>\n      <td>0.0</td>\n      <td>0.0</td>\n      <td>0.0</td>\n      <td>0.0</td>\n      <td>0.0</td>\n      <td>1.0</td>\n    </tr>\n    <tr>\n      <th>17996</th>\n      <td>0.0</td>\n      <td>0.0</td>\n      <td>0.0</td>\n      <td>0.0</td>\n      <td>0.0</td>\n      <td>0.0</td>\n      <td>0.0</td>\n      <td>0.0</td>\n      <td>0.0</td>\n      <td>0.0</td>\n      <td>...</td>\n      <td>0.0</td>\n      <td>0.0</td>\n      <td>0.0</td>\n      <td>0.0</td>\n      <td>0.0</td>\n      <td>0.0</td>\n      <td>0.0</td>\n      <td>0.0</td>\n      <td>0.0</td>\n      <td>1.0</td>\n    </tr>\n    <tr>\n      <th>17997</th>\n      <td>0.0</td>\n      <td>0.0</td>\n      <td>0.0</td>\n      <td>0.0</td>\n      <td>0.0</td>\n      <td>0.0</td>\n      <td>0.0</td>\n      <td>0.0</td>\n      <td>0.0</td>\n      <td>0.0</td>\n      <td>...</td>\n      <td>0.0</td>\n      <td>128.0</td>\n      <td>163.0</td>\n      <td>62.0</td>\n      <td>0.0</td>\n      <td>0.0</td>\n      <td>0.0</td>\n      <td>0.0</td>\n      <td>0.0</td>\n      <td>1.0</td>\n    </tr>\n    <tr>\n      <th>17998</th>\n      <td>0.0</td>\n      <td>0.0</td>\n      <td>0.0</td>\n      <td>0.0</td>\n      <td>0.0</td>\n      <td>0.0</td>\n      <td>0.0</td>\n      <td>0.0</td>\n      <td>0.0</td>\n      <td>0.0</td>\n      <td>...</td>\n      <td>0.0</td>\n      <td>0.0</td>\n      <td>0.0</td>\n      <td>0.0</td>\n      <td>0.0</td>\n      <td>0.0</td>\n      <td>0.0</td>\n      <td>0.0</td>\n      <td>0.0</td>\n      <td>1.0</td>\n    </tr>\n    <tr>\n      <th>17999</th>\n      <td>0.0</td>\n      <td>0.0</td>\n      <td>0.0</td>\n      <td>0.0</td>\n      <td>0.0</td>\n      <td>0.0</td>\n      <td>0.0</td>\n      <td>0.0</td>\n      <td>0.0</td>\n      <td>0.0</td>\n      <td>...</td>\n      <td>54.0</td>\n      <td>50.0</td>\n      <td>5.0</td>\n      <td>0.0</td>\n      <td>1.0</td>\n      <td>0.0</td>\n      <td>0.0</td>\n      <td>0.0</td>\n      <td>0.0</td>\n      <td>1.0</td>\n    </tr>\n  </tbody>\n</table>\n<p>18000 rows × 785 columns</p>\n</div>"
     },
     "metadata": {},
     "execution_count": 9
    }
   ],
   "source": [
    "data_x = np.hstack((np.reshape(train_images,(num_images,-1)),np.ones((num_images,1))))  # incluyendo bias\n",
    "data_x_test = np.hstack((np.reshape(test_images,(num_images_test,-1)),np.ones((num_images_test,1))))  # incluyendo bias\n",
    "np.shape(data_x)\n",
    "pd.DataFrame(data_x)"
   ]
  },
  {
   "source": [
    "### Datos con Normalizacion usando media y desviacion estandar"
   ],
   "cell_type": "markdown",
   "metadata": {}
  },
  {
   "cell_type": "code",
   "execution_count": 10,
   "metadata": {},
   "outputs": [
    {
     "output_type": "stream",
     "name": "stdout",
     "text": [
      "(18000, 785)\n(3000, 785)\n"
     ]
    }
   ],
   "source": [
    "data_x_norm = np.reshape(train_images,(num_images,-1))\n",
    "x_mean = np.mean(data_x_norm, axis=0)\n",
    "x_std = np.std(data_x_norm, axis=0)\n",
    "data_x_norm = np.hstack(((data_x_norm-x_mean)/x_std,np.ones((num_images,1))))\n",
    "\n",
    "# Transformacion data test con x media y x std de entrenamiento\n",
    "data_x_norm_test = np.reshape(test_images,(num_images_test,-1))\n",
    "data_x_norm_test = np.hstack((np.nan_to_num((data_x_norm_test-x_mean)/x_std),np.ones((num_images_test,1))))\n",
    "\n",
    "print(np.shape(data_x_norm))\n",
    "print(np.shape(data_x_norm_test))"
   ]
  },
  {
   "source": [
    "## Definicion Softmax y Grafo"
   ],
   "cell_type": "markdown",
   "metadata": {}
  },
  {
   "cell_type": "code",
   "execution_count": 11,
   "metadata": {},
   "outputs": [],
   "source": [
    "def softmax(tensor_logit):\n",
    "    return tf.exp(tensor_logit)/tf.reduce_sum(tf.exp(tensor_logit),axis=1, keepdims=True)"
   ]
  },
  {
   "cell_type": "code",
   "execution_count": 12,
   "metadata": {},
   "outputs": [],
   "source": [
    "tf.reset_default_graph()\n",
    "g = tf.Graph()\n",
    "with g.as_default():\n",
    "    weights = tf.Variable(tf.zeros((image_size+1,num_labels)), dtype=tf.float32, name = \"weights\")   #matriz de 785x10\n",
    "    tensor_x = tf.placeholder(dtype=tf.float32,name=\"Images\")\n",
    "    tensor_test_x = tf.placeholder(dtype=tf.float32,name=\"Images_Test\")\n",
    "    tensor_y = tf.placeholder(dtype=tf.int32, name=\"Clases\")\n",
    "    tensor_test_y = tf.placeholder(dtype=tf.int32, name=\"Clases_Test\")\n",
    "    tensor_lr = tf.placeholder(dtype=tf.float32,name=\"LR\")\n",
    "    with tf.name_scope(\"OHE_Y\"):\n",
    "        ohe_y = tf.reshape(tf.one_hot(tensor_y, num_labels),(num_images,-1))\n",
    "        ohe_y_test = tf.reshape(tf.one_hot(tensor_test_y, num_labels),(num_images,-1))\n",
    "    with tf.name_scope(\"Logits\"):\n",
    "        logits_train = tf.linalg.matmul(tensor_x, weights, name=\"Logits\")\n",
    "        logits_test = tf.linalg.matmul(tensor_test_x, weights, name=\"Logits\")\n",
    "    with tf.name_scope(\"Softmax\"):\n",
    "        s_train = softmax(logits_train)\n",
    "        s_test = softmax(logits_test)\n",
    "    with tf.name_scope(\"Accuracy\"):\n",
    "        y_hat = tf.argmax(s_test, axis=1, output_type=tf.int32)\n",
    "        accuracy = tf.reduce_sum(tf.cast(tf.equal(y_hat,tensor_test_y),tf.int32))/tf.shape(y_hat)[0]\n",
    "        accuracy_summary = tf.summary.scalar(\"Accuracy\",accuracy)\n",
    "    with tf.name_scope(\"Loss\"):\n",
    "        loss = -1/num_images*tf.reduce_mean(ohe_y*tf.math.log(s_train) + (1-ohe_y)*tf.math.log(1-s_train))\n",
    "        loss_summary = tf.summary.scalar(\"Loss\",loss)\n",
    "    with tf.name_scope(\"Gradient_Descent\"):\n",
    "        gradientes = tf.gradients(loss, weights)\n",
    "        update_weights = tf.assign(weights,weights - tensor_lr*gradientes[0])        \n",
    "\n"
   ]
  },
  {
   "source": [
    "## Funcion de Entrenamiento"
   ],
   "cell_type": "markdown",
   "metadata": {}
  },
  {
   "cell_type": "code",
   "execution_count": 34,
   "metadata": {},
   "outputs": [],
   "source": [
    "def TrainingModel(dataX, dataY, dataX_test, dataY_test, epochs, batch_size, lr, normalization=False):\n",
    "    total_iteraciones = int(np.shape(dataX)[0]/batch_size)\n",
    "\n",
    "    tf.debugging.set_log_device_placement(True)\n",
    "    tf.reset_default_graph()\n",
    "    with tf.Session(graph=g) as session:\n",
    "        writer = tf.summary.FileWriter('./graphs/Parte1/Tarea3.1-RegresionLogisticaMulticlase_normalization='+str(normalization)+'_epochs='+str(epochs)+'_batchsize='+str(batch_size)+'_lr='+str(lr), session.graph)\n",
    "        init = tf.global_variables_initializer()\n",
    "        session.run(init)\n",
    "        j = 1\n",
    "        for epoch in range(epochs):\n",
    "            for i in range(total_iteraciones):\n",
    "                muestra_inicio = i * batch_size\n",
    "                muestra_fin = muestra_inicio + batch_size\n",
    "                x = np.array(dataX[muestra_inicio:muestra_fin])\n",
    "                y = np.array(dataY[muestra_inicio:muestra_fin])\n",
    "                feed_dict = {tensor_x:dataX, tensor_y:dataY, tensor_lr: lr}\n",
    "                parametros, loss_sum = session.run([update_weights, loss_summary],feed_dict=feed_dict)                \n",
    "                writer.add_summary(loss_sum, j+1)\n",
    "                j += 1\n",
    "            feed_dict = {tensor_test_x: dataX_test, tensor_test_y: dataY_test}\n",
    "            acc, accuracy_sum, best_params  = session.run([accuracy, accuracy_summary, weights],feed_dict=feed_dict)\n",
    "            print(\"Epoch {} - Accuracy {}\".format(epoch+1,acc))\n",
    "            writer.add_summary(accuracy_sum, epoch+1)\n",
    "        session.close()\n",
    "        return(best_params)"
   ]
  },
  {
   "source": [
    "## Entrenamiento Datos No Normalizados"
   ],
   "cell_type": "markdown",
   "metadata": {}
  },
  {
   "cell_type": "code",
   "execution_count": 48,
   "metadata": {
    "tags": []
   },
   "outputs": [
    {
     "output_type": "stream",
     "name": "stdout",
     "text": [
      "Device mapping:\n",
      "/job:localhost/replica:0/task:0/device:GPU:0 -> device: 0, name: NVIDIA GeForce RTX 2060, pci bus id: 0000:01:00.0, compute capability: 7.5\n",
      "\n",
      "Epoch 1 - Accuracy 0.9586666666666667\n",
      "Epoch 2 - Accuracy 0.9616666666666667\n",
      "Epoch 3 - Accuracy 0.9626666666666667\n",
      "Epoch 4 - Accuracy 0.964\n",
      "Epoch 5 - Accuracy 0.964\n"
     ]
    }
   ],
   "source": [
    "params = TrainingModel(data_x, train_labels, data_x_test, test_labels, 5, 32, 0.15)"
   ]
  },
  {
   "source": [
    "## Mejor Modelo con datos NO normalizados\n",
    "<img src=\"./images/best non normalize data.png\">"
   ],
   "cell_type": "markdown",
   "metadata": {}
  },
  {
   "source": [
    "## Entrenamiento Datos Normalizados"
   ],
   "cell_type": "markdown",
   "metadata": {}
  },
  {
   "cell_type": "code",
   "execution_count": 53,
   "metadata": {},
   "outputs": [
    {
     "output_type": "stream",
     "name": "stdout",
     "text": [
      "Device mapping:\n",
      "/job:localhost/replica:0/task:0/device:GPU:0 -> device: 0, name: NVIDIA GeForce RTX 2060, pci bus id: 0000:01:00.0, compute capability: 7.5\n",
      "\n",
      "Epoch 1 - Accuracy 0.882\n",
      "Epoch 2 - Accuracy 0.8863333333333333\n",
      "Epoch 3 - Accuracy 0.8893333333333333\n",
      "Epoch 4 - Accuracy 0.8873333333333333\n",
      "Epoch 5 - Accuracy 0.8926666666666667\n",
      "Epoch 6 - Accuracy 0.889\n",
      "Epoch 7 - Accuracy 0.8923333333333333\n",
      "Epoch 8 - Accuracy 0.8916666666666667\n",
      "Epoch 9 - Accuracy 0.8906666666666667\n",
      "Epoch 10 - Accuracy 0.89\n",
      "Epoch 11 - Accuracy 0.8886666666666667\n",
      "Epoch 12 - Accuracy 0.8883333333333333\n",
      "Epoch 13 - Accuracy 0.8896666666666667\n",
      "Epoch 14 - Accuracy 0.8896666666666667\n",
      "Epoch 15 - Accuracy 0.8883333333333333\n"
     ]
    }
   ],
   "source": [
    "params_norm = TrainingModel(data_x_norm, train_labels, data_x_norm_test, test_labels, 15, 32, 0.000001, True)"
   ]
  },
  {
   "source": [
    "## Mejor Modelo con datos normalizados\n",
    "<img src=\"./images/best normalize data.png\">"
   ],
   "cell_type": "markdown",
   "metadata": {}
  },
  {
   "source": [
    "# Conclusion: Modelo con datos normalizados (epochs=5, batch_size=32, lr=0.15) es el que mejor accuracy proporciona\n",
    "<img src=\"./images/best overall.png\">"
   ],
   "cell_type": "markdown",
   "metadata": {}
  },
  {
   "source": [
    "# Prediccion Datos Aleatorios"
   ],
   "cell_type": "markdown",
   "metadata": {}
  },
  {
   "cell_type": "code",
   "execution_count": null,
   "metadata": {},
   "outputs": [],
   "source": []
  },
  {
   "cell_type": "code",
   "execution_count": 18,
   "metadata": {},
   "outputs": [],
   "source": [
    "results = pd.DataFrame(np.stack((preds, train_labels), axis=1))\n",
    "results.to_csv('results.csv')"
   ]
  }
 ]
}